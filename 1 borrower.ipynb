{
 "cells": [
  {
   "cell_type": "markdown",
   "metadata": {},
   "source": [
    "## Исследование надёжности заёмщиков"
   ]
  },
  {
   "cell_type": "markdown",
   "metadata": {},
   "source": [
    "### Шаг 1. Импорт и загрузка данных"
   ]
  },
  {
   "cell_type": "code",
   "execution_count": 2,
   "metadata": {},
   "outputs": [],
   "source": [
    "# импортируем данные и сохраним таблицу в переменной data_client\n",
    "import pandas as pd\n",
    "data_client = pd.read_csv('/datasets/data.csv')\n",
    "#data_client.head(10)"
   ]
  },
  {
   "cell_type": "code",
   "execution_count": 3,
   "metadata": {},
   "outputs": [
    {
     "name": "stdout",
     "output_type": "stream",
     "text": [
      "<class 'pandas.core.frame.DataFrame'>\n",
      "RangeIndex: 21525 entries, 0 to 21524\n",
      "Data columns (total 12 columns):\n",
      "children            21525 non-null int64\n",
      "days_employed       19351 non-null float64\n",
      "dob_years           21525 non-null int64\n",
      "education           21525 non-null object\n",
      "education_id        21525 non-null int64\n",
      "family_status       21525 non-null object\n",
      "family_status_id    21525 non-null int64\n",
      "gender              21525 non-null object\n",
      "income_type         21525 non-null object\n",
      "debt                21525 non-null int64\n",
      "total_income        19351 non-null float64\n",
      "purpose             21525 non-null object\n",
      "dtypes: float64(2), int64(5), object(5)\n",
      "memory usage: 2.0+ MB\n"
     ]
    }
   ],
   "source": [
    "# просмотрим информацию о таблице\n",
    "data_client.info()"
   ]
  },
  {
   "cell_type": "markdown",
   "metadata": {},
   "source": [
    "### Вывод"
   ]
  },
  {
   "cell_type": "markdown",
   "metadata": {},
   "source": [
    "В таблице представлены данные о 21 525 заемщиках разного возраста c разным количеством детей, трудовым стажем, уровнем образования, семейным положением, типом занятости, кредитной историей и целями привлечения займа. В таблице есть пропущенные значения в столбцах трудовой стаж в днях и ежемесячный доход. Количество этих значений в указанных столбцах отличаются на одну и ту же величину. Возможно, значения пропущены в одних и тех же строках. К причинам подобных пропусков я бы отнесла неофициальное трудоустройство с неофициальной заработной платой; фриланс.\n"
   ]
  },
  {
   "cell_type": "markdown",
   "metadata": {},
   "source": [
    "### Шаг 2. Предобработка данных\n",
    "### Обработка пропусков"
   ]
  },
  {
   "cell_type": "code",
   "execution_count": 4,
   "metadata": {
    "scrolled": true
   },
   "outputs": [
    {
     "data": {
      "text/plain": [
       "children               0\n",
       "days_employed       2174\n",
       "dob_years              0\n",
       "education              0\n",
       "education_id           0\n",
       "family_status          0\n",
       "family_status_id       0\n",
       "gender                 0\n",
       "income_type            0\n",
       "debt                   0\n",
       "total_income        2174\n",
       "purpose                0\n",
       "dtype: int64"
      ]
     },
     "execution_count": 4,
     "metadata": {},
     "output_type": "execute_result"
    }
   ],
   "source": [
    "# посчитаем количество пропусков в столбцах\n",
    "data_client.isnull().sum()"
   ]
  },
  {
   "cell_type": "markdown",
   "metadata": {},
   "source": [
    "### Вывод\n",
    "Количество значений в столбцах трудовой стаж в днях и суммарный доход заемщика отличаются от общего количества клиентов на одно и то же значение. Тип данных у этих столбцов - дробные числа. В столбце с трудовым стажем есть отрицательные значения. "
   ]
  },
  {
   "cell_type": "code",
   "execution_count": 5,
   "metadata": {},
   "outputs": [
    {
     "data": {
      "text/html": [
       "<div>\n",
       "<style scoped>\n",
       "    .dataframe tbody tr th:only-of-type {\n",
       "        vertical-align: middle;\n",
       "    }\n",
       "\n",
       "    .dataframe tbody tr th {\n",
       "        vertical-align: top;\n",
       "    }\n",
       "\n",
       "    .dataframe thead th {\n",
       "        text-align: right;\n",
       "    }\n",
       "</style>\n",
       "<table border=\"1\" class=\"dataframe\">\n",
       "  <thead>\n",
       "    <tr style=\"text-align: right;\">\n",
       "      <th></th>\n",
       "      <th>children</th>\n",
       "      <th>days_employed</th>\n",
       "      <th>dob_years</th>\n",
       "      <th>education</th>\n",
       "      <th>education_id</th>\n",
       "      <th>family_status</th>\n",
       "      <th>family_status_id</th>\n",
       "      <th>gender</th>\n",
       "      <th>income_type</th>\n",
       "      <th>debt</th>\n",
       "      <th>total_income</th>\n",
       "      <th>purpose</th>\n",
       "    </tr>\n",
       "  </thead>\n",
       "  <tbody>\n",
       "    <tr>\n",
       "      <td>0</td>\n",
       "      <td>1</td>\n",
       "      <td>8437.673028</td>\n",
       "      <td>42</td>\n",
       "      <td>высшее</td>\n",
       "      <td>0</td>\n",
       "      <td>женат / замужем</td>\n",
       "      <td>0</td>\n",
       "      <td>F</td>\n",
       "      <td>сотрудник</td>\n",
       "      <td>0</td>\n",
       "      <td>253875.639453</td>\n",
       "      <td>покупка жилья</td>\n",
       "    </tr>\n",
       "    <tr>\n",
       "      <td>1</td>\n",
       "      <td>1</td>\n",
       "      <td>4024.803754</td>\n",
       "      <td>36</td>\n",
       "      <td>среднее</td>\n",
       "      <td>1</td>\n",
       "      <td>женат / замужем</td>\n",
       "      <td>0</td>\n",
       "      <td>F</td>\n",
       "      <td>сотрудник</td>\n",
       "      <td>0</td>\n",
       "      <td>112080.014102</td>\n",
       "      <td>приобретение автомобиля</td>\n",
       "    </tr>\n",
       "    <tr>\n",
       "      <td>2</td>\n",
       "      <td>0</td>\n",
       "      <td>5623.422610</td>\n",
       "      <td>33</td>\n",
       "      <td>Среднее</td>\n",
       "      <td>1</td>\n",
       "      <td>женат / замужем</td>\n",
       "      <td>0</td>\n",
       "      <td>M</td>\n",
       "      <td>сотрудник</td>\n",
       "      <td>0</td>\n",
       "      <td>145885.952297</td>\n",
       "      <td>покупка жилья</td>\n",
       "    </tr>\n",
       "    <tr>\n",
       "      <td>3</td>\n",
       "      <td>3</td>\n",
       "      <td>4124.747207</td>\n",
       "      <td>32</td>\n",
       "      <td>среднее</td>\n",
       "      <td>1</td>\n",
       "      <td>женат / замужем</td>\n",
       "      <td>0</td>\n",
       "      <td>M</td>\n",
       "      <td>сотрудник</td>\n",
       "      <td>0</td>\n",
       "      <td>267628.550329</td>\n",
       "      <td>дополнительное образование</td>\n",
       "    </tr>\n",
       "    <tr>\n",
       "      <td>4</td>\n",
       "      <td>0</td>\n",
       "      <td>340266.072047</td>\n",
       "      <td>53</td>\n",
       "      <td>среднее</td>\n",
       "      <td>1</td>\n",
       "      <td>гражданский брак</td>\n",
       "      <td>1</td>\n",
       "      <td>F</td>\n",
       "      <td>пенсионер</td>\n",
       "      <td>0</td>\n",
       "      <td>158616.077870</td>\n",
       "      <td>сыграть свадьбу</td>\n",
       "    </tr>\n",
       "    <tr>\n",
       "      <td>5</td>\n",
       "      <td>0</td>\n",
       "      <td>926.185831</td>\n",
       "      <td>27</td>\n",
       "      <td>высшее</td>\n",
       "      <td>0</td>\n",
       "      <td>гражданский брак</td>\n",
       "      <td>1</td>\n",
       "      <td>M</td>\n",
       "      <td>компаньон</td>\n",
       "      <td>0</td>\n",
       "      <td>255763.565419</td>\n",
       "      <td>покупка жилья</td>\n",
       "    </tr>\n",
       "    <tr>\n",
       "      <td>6</td>\n",
       "      <td>0</td>\n",
       "      <td>2879.202052</td>\n",
       "      <td>43</td>\n",
       "      <td>высшее</td>\n",
       "      <td>0</td>\n",
       "      <td>женат / замужем</td>\n",
       "      <td>0</td>\n",
       "      <td>F</td>\n",
       "      <td>компаньон</td>\n",
       "      <td>0</td>\n",
       "      <td>240525.971920</td>\n",
       "      <td>операции с жильем</td>\n",
       "    </tr>\n",
       "    <tr>\n",
       "      <td>7</td>\n",
       "      <td>0</td>\n",
       "      <td>152.779569</td>\n",
       "      <td>50</td>\n",
       "      <td>СРЕДНЕЕ</td>\n",
       "      <td>1</td>\n",
       "      <td>женат / замужем</td>\n",
       "      <td>0</td>\n",
       "      <td>M</td>\n",
       "      <td>сотрудник</td>\n",
       "      <td>0</td>\n",
       "      <td>135823.934197</td>\n",
       "      <td>образование</td>\n",
       "    </tr>\n",
       "    <tr>\n",
       "      <td>8</td>\n",
       "      <td>2</td>\n",
       "      <td>6929.865299</td>\n",
       "      <td>35</td>\n",
       "      <td>ВЫСШЕЕ</td>\n",
       "      <td>0</td>\n",
       "      <td>гражданский брак</td>\n",
       "      <td>1</td>\n",
       "      <td>F</td>\n",
       "      <td>сотрудник</td>\n",
       "      <td>0</td>\n",
       "      <td>95856.832424</td>\n",
       "      <td>на проведение свадьбы</td>\n",
       "    </tr>\n",
       "    <tr>\n",
       "      <td>9</td>\n",
       "      <td>0</td>\n",
       "      <td>2188.756445</td>\n",
       "      <td>41</td>\n",
       "      <td>среднее</td>\n",
       "      <td>1</td>\n",
       "      <td>женат / замужем</td>\n",
       "      <td>0</td>\n",
       "      <td>M</td>\n",
       "      <td>сотрудник</td>\n",
       "      <td>0</td>\n",
       "      <td>144425.938277</td>\n",
       "      <td>покупка жилья для семьи</td>\n",
       "    </tr>\n",
       "  </tbody>\n",
       "</table>\n",
       "</div>"
      ],
      "text/plain": [
       "   children  days_employed  dob_years education  education_id  \\\n",
       "0         1    8437.673028         42    высшее             0   \n",
       "1         1    4024.803754         36   среднее             1   \n",
       "2         0    5623.422610         33   Среднее             1   \n",
       "3         3    4124.747207         32   среднее             1   \n",
       "4         0  340266.072047         53   среднее             1   \n",
       "5         0     926.185831         27    высшее             0   \n",
       "6         0    2879.202052         43    высшее             0   \n",
       "7         0     152.779569         50   СРЕДНЕЕ             1   \n",
       "8         2    6929.865299         35    ВЫСШЕЕ             0   \n",
       "9         0    2188.756445         41   среднее             1   \n",
       "\n",
       "      family_status  family_status_id gender income_type  debt   total_income  \\\n",
       "0   женат / замужем                 0      F   сотрудник     0  253875.639453   \n",
       "1   женат / замужем                 0      F   сотрудник     0  112080.014102   \n",
       "2   женат / замужем                 0      M   сотрудник     0  145885.952297   \n",
       "3   женат / замужем                 0      M   сотрудник     0  267628.550329   \n",
       "4  гражданский брак                 1      F   пенсионер     0  158616.077870   \n",
       "5  гражданский брак                 1      M   компаньон     0  255763.565419   \n",
       "6   женат / замужем                 0      F   компаньон     0  240525.971920   \n",
       "7   женат / замужем                 0      M   сотрудник     0  135823.934197   \n",
       "8  гражданский брак                 1      F   сотрудник     0   95856.832424   \n",
       "9   женат / замужем                 0      M   сотрудник     0  144425.938277   \n",
       "\n",
       "                      purpose  \n",
       "0               покупка жилья  \n",
       "1     приобретение автомобиля  \n",
       "2               покупка жилья  \n",
       "3  дополнительное образование  \n",
       "4             сыграть свадьбу  \n",
       "5               покупка жилья  \n",
       "6           операции с жильем  \n",
       "7                 образование  \n",
       "8       на проведение свадьбы  \n",
       "9     покупка жилья для семьи  "
      ]
     },
     "execution_count": 5,
     "metadata": {},
     "output_type": "execute_result"
    }
   ],
   "source": [
    "# заменим отрицательные значения на положительные\n",
    "data_client['days_employed'] = data_client['days_employed'].abs()\n",
    "data_client.head(10)"
   ]
  },
  {
   "cell_type": "code",
   "execution_count": 6,
   "metadata": {},
   "outputs": [
    {
     "name": "stdout",
     "output_type": "stream",
     "text": [
      "<class 'pandas.core.frame.DataFrame'>\n",
      "RangeIndex: 21525 entries, 0 to 21524\n",
      "Data columns (total 12 columns):\n",
      "children            21525 non-null int64\n",
      "days_employed       19351 non-null float64\n",
      "dob_years           21525 non-null int64\n",
      "education           21525 non-null object\n",
      "education_id        21525 non-null int64\n",
      "family_status       21525 non-null object\n",
      "family_status_id    21525 non-null int64\n",
      "gender              21525 non-null object\n",
      "income_type         21525 non-null object\n",
      "debt                21525 non-null int64\n",
      "total_income        19351 non-null float64\n",
      "purpose             21525 non-null object\n",
      "dtypes: float64(2), int64(5), object(5)\n",
      "memory usage: 2.0+ MB\n"
     ]
    }
   ],
   "source": [
    "# удалим строки с пропущенными данными, чтобы проверить одни ли и те же строки с пропущенными значеними в графах со стажем\n",
    "# и доходом. А затем закомментируем удаление, чтобы продолжить обработку таблицы и заполнить пропуски \n",
    "#data_client.dropna(inplace=True)\n",
    "data_client.info()\n"
   ]
  },
  {
   "cell_type": "markdown",
   "metadata": {},
   "source": [
    "### Вывод"
   ]
  },
  {
   "cell_type": "markdown",
   "metadata": {},
   "source": [
    "Количество строк стало 19351, то есть удалились только строки с информацией о заемщиках без дохода и без опыта работы и это одни и те же люди. Заполним пропуски."
   ]
  },
  {
   "cell_type": "markdown",
   "metadata": {},
   "source": [
    "---\n",
    "## Комментарий от наставника\n",
    "\n",
    "Мы проверяем влияние не на выдачу кредита, а на погашение. Т.е. всем клиентам в данных кредиты были одобрены. Вряд ли это возможно с нулевым уровнем дохода. Также удалено около 10% данных, что довольно много. Попробуй сохранить данные и заполнить пропуски. Например, используй заполнение пропусков в соответствии с типом дохода. Тогда пенсионеры будут получать также, как и другие пенсионеры и т.д. Все-таки в данных есть достаточное число групп, заполнять пропуски в стаже, скажем, у студентов и пенсионеров одним и тем же значением не очень то правильно. То же самое касается и столбца с доходами: пропуски у предпринимателя и пенсионера заполняются одним числом, что вызывает вопросы. Подумай, как лучше обработать пропуски. +\n",
    "\n",
    "---\n"
   ]
  },
  {
   "cell_type": "code",
   "execution_count": 7,
   "metadata": {},
   "outputs": [
    {
     "data": {
      "text/plain": [
       "сотрудник          11119\n",
       "компаньон           5085\n",
       "пенсионер           3856\n",
       "госслужащий         1459\n",
       "предприниматель        2\n",
       "безработный            2\n",
       "в декрете              1\n",
       "студент                1\n",
       "Name: income_type, dtype: int64"
      ]
     },
     "execution_count": 7,
     "metadata": {},
     "output_type": "execute_result"
    }
   ],
   "source": [
    "# Для заполнения пропусков воспользуемся столбцом о типе занятости income_type:\n",
    "data_client['income_type'].value_counts()"
   ]
  },
  {
   "cell_type": "code",
   "execution_count": 8,
   "metadata": {},
   "outputs": [
    {
     "name": "stdout",
     "output_type": "stream",
     "text": [
      "Средний стаж сотрудников составляет 2326.50\n",
      "Средний стаж компаньонов составляет 2111.52\n",
      "Средний стаж пенсионеров составляет 365003.49\n",
      "Средний стаж госслужащих составляет 3399.90\n",
      "Средний стаж предпринимателей составляет nan\n",
      "Средний стаж безработных составляет 366413.65\n",
      "Средний стаж студентов составляет 578.75\n",
      "Средний стаж клиентов в декрете составляет 3296.76\n"
     ]
    }
   ],
   "source": [
    "# Заполним пропущенные значения столбца о стаже средним стажем по каждому типу занятости.\n",
    "# Для этого посчитаем средний стаж по типам занятости:\n",
    "sotr_mean_days_employed = data_client[data_client['income_type'] == 'сотрудник']['days_employed'].mean()\n",
    "comp_mean_days_employed = data_client[data_client['income_type'] == 'компаньон']['days_employed'].mean()\n",
    "pens_mean_days_employed = data_client[data_client['income_type'] == 'пенсионер']['days_employed'].mean()\n",
    "gos_mean_days_employed = data_client[data_client['income_type'] == 'госслужащий']['days_employed'].mean()\n",
    "pp_mean_days_employed = data_client[data_client['income_type'] == 'предприниматель ']['days_employed'].mean()\n",
    "bezr_mean_days_employed = data_client[data_client['income_type'] == 'безработный']['days_employed'].mean()\n",
    "stud_mean_days_employed = data_client[data_client['income_type'] == 'студент']['days_employed'].mean()\n",
    "dekr_mean_days_employed = data_client[data_client['income_type'] == 'в декрете']['days_employed'].mean()\n"
   ]
  },
  {
   "cell_type": "code",
   "execution_count": 9,
   "metadata": {},
   "outputs": [],
   "source": [
    "# Заполним пропущенные значения столбца о стаже по типу \"сотрудник\"\n",
    "data_client.loc[data_client['income_type'] == 'сотрудник', 'days_employed']=data_client.loc[data_client['income_type'] == 'сотрудник', 'days_employed'].fillna(value=sotr_mean_days_employed)"
   ]
  },
  {
   "cell_type": "code",
   "execution_count": 10,
   "metadata": {},
   "outputs": [],
   "source": [
    "# Заполним пропущенные значения столбца о стаже по типу \"компаньон\"\n",
    "data_client.loc[data_client['income_type'] == 'компаньон', 'days_employed']=data_client.loc[data_client['income_type'] == 'компаньон', 'days_employed'].fillna(value=comp_mean_days_employed)"
   ]
  },
  {
   "cell_type": "code",
   "execution_count": 11,
   "metadata": {},
   "outputs": [],
   "source": [
    "# Заполним пропущенные значения столбца о стаже по типу \"пенсионер\"\n",
    "data_client.loc[data_client['income_type'] == 'пенсионер', 'days_employed']=data_client.loc[data_client['income_type'] == 'пенсионер', 'days_employed'].fillna(value=pens_mean_days_employed)"
   ]
  },
  {
   "cell_type": "code",
   "execution_count": 12,
   "metadata": {},
   "outputs": [],
   "source": [
    "# Заполним пропущенные значения столбца о стаже по типу \"госслужащий\"\n",
    "data_client.loc[data_client['income_type'] == 'госслужащий', 'days_employed']=data_client.loc[data_client['income_type'] == 'госслужащий', 'days_employed'].fillna(value=gos_mean_days_employed)"
   ]
  },
  {
   "cell_type": "code",
   "execution_count": 13,
   "metadata": {},
   "outputs": [
    {
     "data": {
      "text/plain": [
       "сотрудник          11119\n",
       "компаньон           5085\n",
       "пенсионер           3856\n",
       "госслужащий         1459\n",
       "предприниматель        2\n",
       "в декрете              1\n",
       "студент                1\n",
       "Name: income_type, dtype: int64"
      ]
     },
     "execution_count": 13,
     "metadata": {},
     "output_type": "execute_result"
    }
   ],
   "source": [
    "# Средний стаж предпринимателей не посчитался, возможно по ним отсутствуют данные. После заполнения всех пропусков,\n",
    "# которые возможно заполнить, удалим эти строки. Их всего 2. \n",
    "# Средний стаж безработных слишком большой, тоже удалим строки с безработными:\n",
    "\n",
    "data_client = data_client[data_client['income_type'] != 'безработный']\n",
    "data_client['income_type'].value_counts()\n",
    "\n",
    "# В типах занятости \"студент\" и \"в декрете\" по одному клиенту, заполнять пропуски нет необходимости - их нет."
   ]
  },
  {
   "cell_type": "code",
   "execution_count": 14,
   "metadata": {},
   "outputs": [
    {
     "name": "stdout",
     "output_type": "stream",
     "text": [
      "<class 'pandas.core.frame.DataFrame'>\n",
      "Int64Index: 21523 entries, 0 to 21524\n",
      "Data columns (total 12 columns):\n",
      "children            21523 non-null int64\n",
      "days_employed       21522 non-null float64\n",
      "dob_years           21523 non-null int64\n",
      "education           21523 non-null object\n",
      "education_id        21523 non-null int64\n",
      "family_status       21523 non-null object\n",
      "family_status_id    21523 non-null int64\n",
      "gender              21523 non-null object\n",
      "income_type         21523 non-null object\n",
      "debt                21523 non-null int64\n",
      "total_income        19349 non-null float64\n",
      "purpose             21523 non-null object\n",
      "dtypes: float64(2), int64(5), object(5)\n",
      "memory usage: 2.1+ MB\n"
     ]
    }
   ],
   "source": [
    "# рассмотрим столбец days_employed\n",
    "data_client.info()"
   ]
  },
  {
   "cell_type": "markdown",
   "metadata": {},
   "source": [
    "### Вывод"
   ]
  },
  {
   "cell_type": "markdown",
   "metadata": {},
   "source": [
    "В столбце о стаже заемщиков отсутствующие значения были заполнены средними по типу занятости каждого клиента. Строки с безработными заемщиками удалены по причине слишком большого стажа, таких строк всего 2, и критично они повлиять на результаты оценки различных факторов на погашение кредита не могут. Также в этом столбце содержатся не всегда адекватные значения стажа работы в днях, но информация о стаже не требуется для решения поставленных в проекте задач."
   ]
  },
  {
   "cell_type": "code",
   "execution_count": 15,
   "metadata": {},
   "outputs": [
    {
     "data": {
      "text/plain": [
       " 0     14148\n",
       " 1      4817\n",
       " 2      2055\n",
       " 3       330\n",
       " 20       76\n",
       "-1        47\n",
       " 4        41\n",
       " 5         9\n",
       "Name: children, dtype: int64"
      ]
     },
     "execution_count": 15,
     "metadata": {},
     "output_type": "execute_result"
    }
   ],
   "source": [
    "# рассмотрим столбец 'children':\n",
    "\n",
    "data_client['children'].value_counts()"
   ]
  },
  {
   "cell_type": "markdown",
   "metadata": {},
   "source": [
    "### Вывод"
   ]
  },
  {
   "cell_type": "markdown",
   "metadata": {},
   "source": [
    "В столбце с количеством детей есть информация о 67 клиентах с 20 детьми и о 44 с количеством детей равном отрицательному числу. "
   ]
  },
  {
   "cell_type": "code",
   "execution_count": 16,
   "metadata": {},
   "outputs": [
    {
     "data": {
      "text/html": [
       "<div>\n",
       "<style scoped>\n",
       "    .dataframe tbody tr th:only-of-type {\n",
       "        vertical-align: middle;\n",
       "    }\n",
       "\n",
       "    .dataframe tbody tr th {\n",
       "        vertical-align: top;\n",
       "    }\n",
       "\n",
       "    .dataframe thead th {\n",
       "        text-align: right;\n",
       "    }\n",
       "</style>\n",
       "<table border=\"1\" class=\"dataframe\">\n",
       "  <thead>\n",
       "    <tr style=\"text-align: right;\">\n",
       "      <th></th>\n",
       "      <th>children</th>\n",
       "      <th>days_employed</th>\n",
       "      <th>dob_years</th>\n",
       "      <th>education</th>\n",
       "      <th>education_id</th>\n",
       "      <th>family_status</th>\n",
       "      <th>family_status_id</th>\n",
       "      <th>gender</th>\n",
       "      <th>income_type</th>\n",
       "      <th>debt</th>\n",
       "      <th>total_income</th>\n",
       "      <th>purpose</th>\n",
       "    </tr>\n",
       "  </thead>\n",
       "  <tbody>\n",
       "    <tr>\n",
       "      <td>606</td>\n",
       "      <td>20</td>\n",
       "      <td>880.221113</td>\n",
       "      <td>21</td>\n",
       "      <td>среднее</td>\n",
       "      <td>1</td>\n",
       "      <td>женат / замужем</td>\n",
       "      <td>0</td>\n",
       "      <td>M</td>\n",
       "      <td>компаньон</td>\n",
       "      <td>0</td>\n",
       "      <td>145334.865002</td>\n",
       "      <td>покупка жилья</td>\n",
       "    </tr>\n",
       "    <tr>\n",
       "      <td>720</td>\n",
       "      <td>20</td>\n",
       "      <td>855.595512</td>\n",
       "      <td>44</td>\n",
       "      <td>среднее</td>\n",
       "      <td>1</td>\n",
       "      <td>женат / замужем</td>\n",
       "      <td>0</td>\n",
       "      <td>F</td>\n",
       "      <td>компаньон</td>\n",
       "      <td>0</td>\n",
       "      <td>112998.738649</td>\n",
       "      <td>покупка недвижимости</td>\n",
       "    </tr>\n",
       "    <tr>\n",
       "      <td>1074</td>\n",
       "      <td>20</td>\n",
       "      <td>3310.411598</td>\n",
       "      <td>56</td>\n",
       "      <td>среднее</td>\n",
       "      <td>1</td>\n",
       "      <td>женат / замужем</td>\n",
       "      <td>0</td>\n",
       "      <td>F</td>\n",
       "      <td>сотрудник</td>\n",
       "      <td>1</td>\n",
       "      <td>229518.537004</td>\n",
       "      <td>получение образования</td>\n",
       "    </tr>\n",
       "    <tr>\n",
       "      <td>2510</td>\n",
       "      <td>20</td>\n",
       "      <td>2714.161249</td>\n",
       "      <td>59</td>\n",
       "      <td>высшее</td>\n",
       "      <td>0</td>\n",
       "      <td>вдовец / вдова</td>\n",
       "      <td>2</td>\n",
       "      <td>F</td>\n",
       "      <td>сотрудник</td>\n",
       "      <td>0</td>\n",
       "      <td>264474.835577</td>\n",
       "      <td>операции с коммерческой недвижимостью</td>\n",
       "    </tr>\n",
       "    <tr>\n",
       "      <td>2941</td>\n",
       "      <td>20</td>\n",
       "      <td>2161.591519</td>\n",
       "      <td>0</td>\n",
       "      <td>среднее</td>\n",
       "      <td>1</td>\n",
       "      <td>женат / замужем</td>\n",
       "      <td>0</td>\n",
       "      <td>F</td>\n",
       "      <td>сотрудник</td>\n",
       "      <td>0</td>\n",
       "      <td>199739.941398</td>\n",
       "      <td>на покупку автомобиля</td>\n",
       "    </tr>\n",
       "    <tr>\n",
       "      <td>3302</td>\n",
       "      <td>20</td>\n",
       "      <td>3399.896902</td>\n",
       "      <td>35</td>\n",
       "      <td>среднее</td>\n",
       "      <td>1</td>\n",
       "      <td>Не женат / не замужем</td>\n",
       "      <td>4</td>\n",
       "      <td>F</td>\n",
       "      <td>госслужащий</td>\n",
       "      <td>0</td>\n",
       "      <td>NaN</td>\n",
       "      <td>профильное образование</td>\n",
       "    </tr>\n",
       "    <tr>\n",
       "      <td>3396</td>\n",
       "      <td>20</td>\n",
       "      <td>2111.524398</td>\n",
       "      <td>56</td>\n",
       "      <td>высшее</td>\n",
       "      <td>0</td>\n",
       "      <td>женат / замужем</td>\n",
       "      <td>0</td>\n",
       "      <td>F</td>\n",
       "      <td>компаньон</td>\n",
       "      <td>0</td>\n",
       "      <td>NaN</td>\n",
       "      <td>высшее образование</td>\n",
       "    </tr>\n",
       "    <tr>\n",
       "      <td>3671</td>\n",
       "      <td>20</td>\n",
       "      <td>913.161503</td>\n",
       "      <td>23</td>\n",
       "      <td>среднее</td>\n",
       "      <td>1</td>\n",
       "      <td>Не женат / не замужем</td>\n",
       "      <td>4</td>\n",
       "      <td>F</td>\n",
       "      <td>сотрудник</td>\n",
       "      <td>0</td>\n",
       "      <td>101255.492076</td>\n",
       "      <td>на покупку подержанного автомобиля</td>\n",
       "    </tr>\n",
       "    <tr>\n",
       "      <td>3697</td>\n",
       "      <td>20</td>\n",
       "      <td>2907.910616</td>\n",
       "      <td>40</td>\n",
       "      <td>среднее</td>\n",
       "      <td>1</td>\n",
       "      <td>гражданский брак</td>\n",
       "      <td>1</td>\n",
       "      <td>M</td>\n",
       "      <td>сотрудник</td>\n",
       "      <td>0</td>\n",
       "      <td>115380.694664</td>\n",
       "      <td>на покупку подержанного автомобиля</td>\n",
       "    </tr>\n",
       "    <tr>\n",
       "      <td>3735</td>\n",
       "      <td>20</td>\n",
       "      <td>805.044438</td>\n",
       "      <td>26</td>\n",
       "      <td>высшее</td>\n",
       "      <td>0</td>\n",
       "      <td>Не женат / не замужем</td>\n",
       "      <td>4</td>\n",
       "      <td>M</td>\n",
       "      <td>сотрудник</td>\n",
       "      <td>0</td>\n",
       "      <td>137200.646181</td>\n",
       "      <td>ремонт жилью</td>\n",
       "    </tr>\n",
       "  </tbody>\n",
       "</table>\n",
       "</div>"
      ],
      "text/plain": [
       "      children  days_employed  dob_years education  education_id  \\\n",
       "606         20     880.221113         21   среднее             1   \n",
       "720         20     855.595512         44   среднее             1   \n",
       "1074        20    3310.411598         56   среднее             1   \n",
       "2510        20    2714.161249         59    высшее             0   \n",
       "2941        20    2161.591519          0   среднее             1   \n",
       "3302        20    3399.896902         35   среднее             1   \n",
       "3396        20    2111.524398         56    высшее             0   \n",
       "3671        20     913.161503         23   среднее             1   \n",
       "3697        20    2907.910616         40   среднее             1   \n",
       "3735        20     805.044438         26    высшее             0   \n",
       "\n",
       "              family_status  family_status_id gender  income_type  debt  \\\n",
       "606         женат / замужем                 0      M    компаньон     0   \n",
       "720         женат / замужем                 0      F    компаньон     0   \n",
       "1074        женат / замужем                 0      F    сотрудник     1   \n",
       "2510         вдовец / вдова                 2      F    сотрудник     0   \n",
       "2941        женат / замужем                 0      F    сотрудник     0   \n",
       "3302  Не женат / не замужем                 4      F  госслужащий     0   \n",
       "3396        женат / замужем                 0      F    компаньон     0   \n",
       "3671  Не женат / не замужем                 4      F    сотрудник     0   \n",
       "3697       гражданский брак                 1      M    сотрудник     0   \n",
       "3735  Не женат / не замужем                 4      M    сотрудник     0   \n",
       "\n",
       "       total_income                                purpose  \n",
       "606   145334.865002                          покупка жилья  \n",
       "720   112998.738649                   покупка недвижимости  \n",
       "1074  229518.537004                  получение образования  \n",
       "2510  264474.835577  операции с коммерческой недвижимостью  \n",
       "2941  199739.941398                  на покупку автомобиля  \n",
       "3302            NaN                 профильное образование  \n",
       "3396            NaN                     высшее образование  \n",
       "3671  101255.492076     на покупку подержанного автомобиля  \n",
       "3697  115380.694664     на покупку подержанного автомобиля  \n",
       "3735  137200.646181                           ремонт жилью  "
      ]
     },
     "execution_count": 16,
     "metadata": {},
     "output_type": "execute_result"
    }
   ],
   "source": [
    "# Рассмотрим строки с клиентами количество детей которых равно 20:\n",
    "\n",
    "children_quantity = ['20']\n",
    "data_client[data_client.children.isin(children_quantity)].head(10)"
   ]
  },
  {
   "cell_type": "markdown",
   "metadata": {},
   "source": [
    "### Вывод"
   ]
  },
  {
   "cell_type": "raw",
   "metadata": {},
   "source": [
    "Это клиенты разных возрастов и разного семейного положения. "
   ]
  },
  {
   "cell_type": "code",
   "execution_count": 17,
   "metadata": {},
   "outputs": [
    {
     "data": {
      "text/plain": [
       " 0    14148\n",
       " 1     4817\n",
       " 2     2131\n",
       " 3      330\n",
       "-1       47\n",
       " 4       41\n",
       " 5        9\n",
       "Name: children, dtype: int64"
      ]
     },
     "execution_count": 17,
     "metadata": {},
     "output_type": "execute_result"
    }
   ],
   "source": [
    "# заменим количество детей с 20 на 2:\n",
    "data_client['children'] = data_client['children'].replace(20, 2)\n",
    "data_client['children'].value_counts()"
   ]
  },
  {
   "cell_type": "code",
   "execution_count": 18,
   "metadata": {},
   "outputs": [
    {
     "data": {
      "text/html": [
       "<div>\n",
       "<style scoped>\n",
       "    .dataframe tbody tr th:only-of-type {\n",
       "        vertical-align: middle;\n",
       "    }\n",
       "\n",
       "    .dataframe tbody tr th {\n",
       "        vertical-align: top;\n",
       "    }\n",
       "\n",
       "    .dataframe thead th {\n",
       "        text-align: right;\n",
       "    }\n",
       "</style>\n",
       "<table border=\"1\" class=\"dataframe\">\n",
       "  <thead>\n",
       "    <tr style=\"text-align: right;\">\n",
       "      <th></th>\n",
       "      <th>children</th>\n",
       "      <th>days_employed</th>\n",
       "      <th>dob_years</th>\n",
       "      <th>education</th>\n",
       "      <th>education_id</th>\n",
       "      <th>family_status</th>\n",
       "      <th>family_status_id</th>\n",
       "      <th>gender</th>\n",
       "      <th>income_type</th>\n",
       "      <th>debt</th>\n",
       "      <th>total_income</th>\n",
       "      <th>purpose</th>\n",
       "    </tr>\n",
       "  </thead>\n",
       "  <tbody>\n",
       "    <tr>\n",
       "      <td>291</td>\n",
       "      <td>-1</td>\n",
       "      <td>4417.703588</td>\n",
       "      <td>46</td>\n",
       "      <td>среднее</td>\n",
       "      <td>1</td>\n",
       "      <td>гражданский брак</td>\n",
       "      <td>1</td>\n",
       "      <td>F</td>\n",
       "      <td>сотрудник</td>\n",
       "      <td>0</td>\n",
       "      <td>102816.346412</td>\n",
       "      <td>профильное образование</td>\n",
       "    </tr>\n",
       "    <tr>\n",
       "      <td>705</td>\n",
       "      <td>-1</td>\n",
       "      <td>902.084528</td>\n",
       "      <td>50</td>\n",
       "      <td>среднее</td>\n",
       "      <td>1</td>\n",
       "      <td>женат / замужем</td>\n",
       "      <td>0</td>\n",
       "      <td>F</td>\n",
       "      <td>госслужащий</td>\n",
       "      <td>0</td>\n",
       "      <td>137882.899271</td>\n",
       "      <td>приобретение автомобиля</td>\n",
       "    </tr>\n",
       "    <tr>\n",
       "      <td>742</td>\n",
       "      <td>-1</td>\n",
       "      <td>3174.456205</td>\n",
       "      <td>57</td>\n",
       "      <td>среднее</td>\n",
       "      <td>1</td>\n",
       "      <td>женат / замужем</td>\n",
       "      <td>0</td>\n",
       "      <td>F</td>\n",
       "      <td>сотрудник</td>\n",
       "      <td>0</td>\n",
       "      <td>64268.044444</td>\n",
       "      <td>дополнительное образование</td>\n",
       "    </tr>\n",
       "    <tr>\n",
       "      <td>800</td>\n",
       "      <td>-1</td>\n",
       "      <td>349987.852217</td>\n",
       "      <td>54</td>\n",
       "      <td>среднее</td>\n",
       "      <td>1</td>\n",
       "      <td>Не женат / не замужем</td>\n",
       "      <td>4</td>\n",
       "      <td>F</td>\n",
       "      <td>пенсионер</td>\n",
       "      <td>0</td>\n",
       "      <td>86293.724153</td>\n",
       "      <td>дополнительное образование</td>\n",
       "    </tr>\n",
       "    <tr>\n",
       "      <td>941</td>\n",
       "      <td>-1</td>\n",
       "      <td>365003.491245</td>\n",
       "      <td>57</td>\n",
       "      <td>Среднее</td>\n",
       "      <td>1</td>\n",
       "      <td>женат / замужем</td>\n",
       "      <td>0</td>\n",
       "      <td>F</td>\n",
       "      <td>пенсионер</td>\n",
       "      <td>0</td>\n",
       "      <td>NaN</td>\n",
       "      <td>на покупку своего автомобиля</td>\n",
       "    </tr>\n",
       "    <tr>\n",
       "      <td>1363</td>\n",
       "      <td>-1</td>\n",
       "      <td>1195.264956</td>\n",
       "      <td>55</td>\n",
       "      <td>СРЕДНЕЕ</td>\n",
       "      <td>1</td>\n",
       "      <td>женат / замужем</td>\n",
       "      <td>0</td>\n",
       "      <td>F</td>\n",
       "      <td>компаньон</td>\n",
       "      <td>0</td>\n",
       "      <td>69550.699692</td>\n",
       "      <td>профильное образование</td>\n",
       "    </tr>\n",
       "    <tr>\n",
       "      <td>1929</td>\n",
       "      <td>-1</td>\n",
       "      <td>1461.303336</td>\n",
       "      <td>38</td>\n",
       "      <td>среднее</td>\n",
       "      <td>1</td>\n",
       "      <td>Не женат / не замужем</td>\n",
       "      <td>4</td>\n",
       "      <td>M</td>\n",
       "      <td>сотрудник</td>\n",
       "      <td>0</td>\n",
       "      <td>109121.569013</td>\n",
       "      <td>покупка жилья</td>\n",
       "    </tr>\n",
       "    <tr>\n",
       "      <td>2073</td>\n",
       "      <td>-1</td>\n",
       "      <td>2539.761232</td>\n",
       "      <td>42</td>\n",
       "      <td>среднее</td>\n",
       "      <td>1</td>\n",
       "      <td>в разводе</td>\n",
       "      <td>3</td>\n",
       "      <td>F</td>\n",
       "      <td>компаньон</td>\n",
       "      <td>0</td>\n",
       "      <td>162638.609373</td>\n",
       "      <td>покупка жилья</td>\n",
       "    </tr>\n",
       "    <tr>\n",
       "      <td>3814</td>\n",
       "      <td>-1</td>\n",
       "      <td>3045.290443</td>\n",
       "      <td>26</td>\n",
       "      <td>Среднее</td>\n",
       "      <td>1</td>\n",
       "      <td>гражданский брак</td>\n",
       "      <td>1</td>\n",
       "      <td>F</td>\n",
       "      <td>госслужащий</td>\n",
       "      <td>0</td>\n",
       "      <td>131892.785435</td>\n",
       "      <td>на проведение свадьбы</td>\n",
       "    </tr>\n",
       "    <tr>\n",
       "      <td>4201</td>\n",
       "      <td>-1</td>\n",
       "      <td>901.101738</td>\n",
       "      <td>41</td>\n",
       "      <td>среднее</td>\n",
       "      <td>1</td>\n",
       "      <td>женат / замужем</td>\n",
       "      <td>0</td>\n",
       "      <td>F</td>\n",
       "      <td>госслужащий</td>\n",
       "      <td>0</td>\n",
       "      <td>226375.766751</td>\n",
       "      <td>операции со своей недвижимостью</td>\n",
       "    </tr>\n",
       "  </tbody>\n",
       "</table>\n",
       "</div>"
      ],
      "text/plain": [
       "      children  days_employed  dob_years education  education_id  \\\n",
       "291         -1    4417.703588         46   среднее             1   \n",
       "705         -1     902.084528         50   среднее             1   \n",
       "742         -1    3174.456205         57   среднее             1   \n",
       "800         -1  349987.852217         54   среднее             1   \n",
       "941         -1  365003.491245         57   Среднее             1   \n",
       "1363        -1    1195.264956         55   СРЕДНЕЕ             1   \n",
       "1929        -1    1461.303336         38   среднее             1   \n",
       "2073        -1    2539.761232         42   среднее             1   \n",
       "3814        -1    3045.290443         26   Среднее             1   \n",
       "4201        -1     901.101738         41   среднее             1   \n",
       "\n",
       "              family_status  family_status_id gender  income_type  debt  \\\n",
       "291        гражданский брак                 1      F    сотрудник     0   \n",
       "705         женат / замужем                 0      F  госслужащий     0   \n",
       "742         женат / замужем                 0      F    сотрудник     0   \n",
       "800   Не женат / не замужем                 4      F    пенсионер     0   \n",
       "941         женат / замужем                 0      F    пенсионер     0   \n",
       "1363        женат / замужем                 0      F    компаньон     0   \n",
       "1929  Не женат / не замужем                 4      M    сотрудник     0   \n",
       "2073              в разводе                 3      F    компаньон     0   \n",
       "3814       гражданский брак                 1      F  госслужащий     0   \n",
       "4201        женат / замужем                 0      F  госслужащий     0   \n",
       "\n",
       "       total_income                          purpose  \n",
       "291   102816.346412           профильное образование  \n",
       "705   137882.899271          приобретение автомобиля  \n",
       "742    64268.044444       дополнительное образование  \n",
       "800    86293.724153       дополнительное образование  \n",
       "941             NaN     на покупку своего автомобиля  \n",
       "1363   69550.699692           профильное образование  \n",
       "1929  109121.569013                    покупка жилья  \n",
       "2073  162638.609373                    покупка жилья  \n",
       "3814  131892.785435            на проведение свадьбы  \n",
       "4201  226375.766751  операции со своей недвижимостью  "
      ]
     },
     "execution_count": 18,
     "metadata": {},
     "output_type": "execute_result"
    }
   ],
   "source": [
    "# Рассмотрим строки с клиентами количество детей которых равно -1:\n",
    "\n",
    "children_quantity = ['-1']\n",
    "data_client[data_client.children.isin(children_quantity)].head(10)"
   ]
  },
  {
   "cell_type": "code",
   "execution_count": 19,
   "metadata": {},
   "outputs": [
    {
     "data": {
      "text/plain": [
       "0    14148\n",
       "1     4864\n",
       "2     2131\n",
       "3      330\n",
       "4       41\n",
       "5        9\n",
       "Name: children, dtype: int64"
      ]
     },
     "execution_count": 19,
     "metadata": {},
     "output_type": "execute_result"
    }
   ],
   "source": [
    "# заменим количество детей с -1 на 1\n",
    "data_client['children'] = data_client['children'].replace(-1, 1)\n",
    "\n",
    "# проверим результат\n",
    "data_client['children'].value_counts()"
   ]
  },
  {
   "cell_type": "markdown",
   "metadata": {},
   "source": [
    "### Вывод"
   ]
  },
  {
   "cell_type": "raw",
   "metadata": {},
   "source": [
    "Аномальные значения количества детей исключены"
   ]
  },
  {
   "cell_type": "code",
   "execution_count": 20,
   "metadata": {},
   "outputs": [
    {
     "data": {
      "text/plain": [
       "35    617\n",
       "40    609\n",
       "41    607\n",
       "34    603\n",
       "38    598\n",
       "42    597\n",
       "33    581\n",
       "39    573\n",
       "31    559\n",
       "36    555\n",
       "44    547\n",
       "29    545\n",
       "30    540\n",
       "48    538\n",
       "37    537\n",
       "50    514\n",
       "43    513\n",
       "32    510\n",
       "49    508\n",
       "28    503\n",
       "45    496\n",
       "27    493\n",
       "56    487\n",
       "52    484\n",
       "47    480\n",
       "54    479\n",
       "46    475\n",
       "58    461\n",
       "57    460\n",
       "53    459\n",
       "51    448\n",
       "59    444\n",
       "55    443\n",
       "26    408\n",
       "60    377\n",
       "25    357\n",
       "61    355\n",
       "62    352\n",
       "63    269\n",
       "64    265\n",
       "24    264\n",
       "23    254\n",
       "65    194\n",
       "66    183\n",
       "22    183\n",
       "67    167\n",
       "21    111\n",
       "0     101\n",
       "68     99\n",
       "69     85\n",
       "70     65\n",
       "71     58\n",
       "20     51\n",
       "72     33\n",
       "19     14\n",
       "73      8\n",
       "74      6\n",
       "75      1\n",
       "Name: dob_years, dtype: int64"
      ]
     },
     "execution_count": 20,
     "metadata": {},
     "output_type": "execute_result"
    }
   ],
   "source": [
    "# рассмотрим столбец dob_years\n",
    "data_client['dob_years'].value_counts()"
   ]
  },
  {
   "cell_type": "markdown",
   "metadata": {},
   "source": [
    "### Вывод"
   ]
  },
  {
   "cell_type": "raw",
   "metadata": {},
   "source": [
    "В столбце с возрастом клиента содержится 91 строка, в которых возраст клиента не указан. Заменим значения в таких строках на медиану возраста заемщиков."
   ]
  },
  {
   "cell_type": "code",
   "execution_count": 21,
   "metadata": {},
   "outputs": [
    {
     "data": {
      "text/plain": [
       "42    698\n",
       "35    617\n",
       "40    609\n",
       "41    607\n",
       "34    603\n",
       "38    598\n",
       "33    581\n",
       "39    573\n",
       "31    559\n",
       "36    555\n",
       "44    547\n",
       "29    545\n",
       "30    540\n",
       "48    538\n",
       "37    537\n",
       "50    514\n",
       "43    513\n",
       "32    510\n",
       "49    508\n",
       "28    503\n",
       "45    496\n",
       "27    493\n",
       "56    487\n",
       "52    484\n",
       "47    480\n",
       "54    479\n",
       "46    475\n",
       "58    461\n",
       "57    460\n",
       "53    459\n",
       "51    448\n",
       "59    444\n",
       "55    443\n",
       "26    408\n",
       "60    377\n",
       "25    357\n",
       "61    355\n",
       "62    352\n",
       "63    269\n",
       "64    265\n",
       "24    264\n",
       "23    254\n",
       "65    194\n",
       "66    183\n",
       "22    183\n",
       "67    167\n",
       "21    111\n",
       "68     99\n",
       "69     85\n",
       "70     65\n",
       "71     58\n",
       "20     51\n",
       "72     33\n",
       "19     14\n",
       "73      8\n",
       "74      6\n",
       "75      1\n",
       "Name: dob_years, dtype: int64"
      ]
     },
     "execution_count": 21,
     "metadata": {},
     "output_type": "execute_result"
    }
   ],
   "source": [
    "# заменим значение возраста заемщика 0 на медиану значений возраста заемщиков:\n",
    "data_client['dob_years'] = data_client['dob_years'].replace(0, data_client['dob_years'].median())\n",
    "data_client['dob_years'].value_counts()"
   ]
  },
  {
   "cell_type": "markdown",
   "metadata": {},
   "source": [
    "### Вывод"
   ]
  },
  {
   "cell_type": "raw",
   "metadata": {},
   "source": [
    "В результате замены исключены нулевые значения возраста заемщиков"
   ]
  },
  {
   "cell_type": "code",
   "execution_count": 22,
   "metadata": {},
   "outputs": [
    {
     "data": {
      "text/plain": [
       "среднее                13749\n",
       "высшее                  4718\n",
       "СРЕДНЕЕ                  772\n",
       "Среднее                  711\n",
       "неоконченное высшее      668\n",
       "ВЫСШЕЕ                   274\n",
       "Высшее                   267\n",
       "начальное                250\n",
       "Неоконченное высшее       47\n",
       "НЕОКОНЧЕННОЕ ВЫСШЕЕ       29\n",
       "НАЧАЛЬНОЕ                 17\n",
       "Начальное                 15\n",
       "ученая степень             4\n",
       "УЧЕНАЯ СТЕПЕНЬ             1\n",
       "Ученая степень             1\n",
       "Name: education, dtype: int64"
      ]
     },
     "execution_count": 22,
     "metadata": {},
     "output_type": "execute_result"
    }
   ],
   "source": [
    "# рассмотрим столбец education\n",
    "data_client['education'].value_counts()"
   ]
  },
  {
   "cell_type": "markdown",
   "metadata": {},
   "source": [
    "### Вывод"
   ]
  },
  {
   "cell_type": "raw",
   "metadata": {},
   "source": [
    "В столбце с уровнем образования нет пропущенных значений"
   ]
  },
  {
   "cell_type": "code",
   "execution_count": 23,
   "metadata": {},
   "outputs": [
    {
     "data": {
      "text/plain": [
       "женат / замужем          12379\n",
       "гражданский брак          4176\n",
       "Не женат / не замужем     2813\n",
       "в разводе                 1195\n",
       "вдовец / вдова             960\n",
       "Name: family_status, dtype: int64"
      ]
     },
     "execution_count": 23,
     "metadata": {},
     "output_type": "execute_result"
    }
   ],
   "source": [
    "# рассмотрим столбец family_status\n",
    "data_client['family_status'].value_counts()"
   ]
  },
  {
   "cell_type": "markdown",
   "metadata": {},
   "source": [
    "### Вывод"
   ]
  },
  {
   "cell_type": "raw",
   "metadata": {},
   "source": [
    "В столбце с семейным положением нет пропущенных значений"
   ]
  },
  {
   "cell_type": "code",
   "execution_count": 24,
   "metadata": {},
   "outputs": [
    {
     "data": {
      "text/plain": [
       "F      14235\n",
       "M       7287\n",
       "XNA        1\n",
       "Name: gender, dtype: int64"
      ]
     },
     "execution_count": 24,
     "metadata": {},
     "output_type": "execute_result"
    }
   ],
   "source": [
    "# рассмотрим столбец gender\n",
    "data_client['gender'].value_counts()"
   ]
  },
  {
   "cell_type": "markdown",
   "metadata": {},
   "source": [
    "### Вывод"
   ]
  },
  {
   "cell_type": "raw",
   "metadata": {},
   "source": [
    "В столбце с полом клиента один из клиентов не указал свой пол. Одна строка из 19351 не может существенно повлиять на результаты исследования, то есть ее можно удалить."
   ]
  },
  {
   "cell_type": "code",
   "execution_count": 25,
   "metadata": {},
   "outputs": [
    {
     "data": {
      "text/plain": [
       "F    14235\n",
       "M     7287\n",
       "Name: gender, dtype: int64"
      ]
     },
     "execution_count": 25,
     "metadata": {},
     "output_type": "execute_result"
    }
   ],
   "source": [
    "data_client = data_client[data_client['gender'] != 'XNA']\n",
    "data_client['gender'].value_counts()"
   ]
  },
  {
   "cell_type": "code",
   "execution_count": 26,
   "metadata": {},
   "outputs": [
    {
     "data": {
      "text/plain": [
       "сотрудник          11119\n",
       "компаньон           5084\n",
       "пенсионер           3856\n",
       "госслужащий         1459\n",
       "предприниматель        2\n",
       "в декрете              1\n",
       "студент                1\n",
       "Name: income_type, dtype: int64"
      ]
     },
     "execution_count": 26,
     "metadata": {},
     "output_type": "execute_result"
    }
   ],
   "source": [
    "# рассмотрим столбец income_type\n",
    "data_client['income_type'].value_counts()"
   ]
  },
  {
   "cell_type": "markdown",
   "metadata": {},
   "source": [
    "### Вывод"
   ]
  },
  {
   "cell_type": "raw",
   "metadata": {},
   "source": [
    "В столбце с типом дохода нет пропущенных значений"
   ]
  },
  {
   "cell_type": "code",
   "execution_count": 27,
   "metadata": {},
   "outputs": [
    {
     "name": "stdout",
     "output_type": "stream",
     "text": [
      "Средний ежемесячный доход сотрудников составляет 161380.26\n",
      "Средний ежемесячный доход компаньонов составляет 202417.14\n",
      "Средний ежемесячный доход пенсионеров составляет 137127.47\n",
      "Средний ежемесячный доход госслужащих составляет 170898.31\n",
      "Средний ежемесячный доход предпринимателей составляет nan\n",
      "Средний ежемесячный доход студентов составляет 98201.63\n",
      "Средний ежемесячный доход клиентов в декрете составляет 53829.13\n"
     ]
    }
   ],
   "source": [
    "# рассмотрим столбец total_income \n",
    "\n",
    "# data_client.info()\n",
    "\n",
    "# в этом столбце 19 348 пропущенных значений, заполним их по аналогии со столбцом со стажем работы: посчитаем среднее значение\n",
    "# ежемесячного дохода по типам занятости клиентов:\n",
    "sotr_mean_total_income = data_client[data_client['income_type'] == 'сотрудник']['total_income'].mean()\n",
    "comp_mean_total_income = data_client[data_client['income_type'] == 'компаньон']['total_income'].mean()\n",
    "pens_mean_total_income = data_client[data_client['income_type'] == 'пенсионер']['total_income'].mean()\n",
    "gos_mean_total_income = data_client[data_client['income_type'] == 'госслужащий']['total_income'].mean()\n",
    "pp_mean_total_income = data_client[data_client['income_type'] == 'предприниматель ']['total_income'].mean()\n",
    "stud_mean_total_income = data_client[data_client['income_type'] == 'студент']['total_income'].mean()\n",
    "dekr_mean_total_income = data_client[data_client['income_type'] == 'в декрете']['total_income'].mean()"
   ]
  },
  {
   "cell_type": "code",
   "execution_count": 28,
   "metadata": {},
   "outputs": [],
   "source": [
    "# Заполним пропущенные значения столбца о ежемесячном доходе по типу \"сотрудник\"\n",
    "data_client.loc[data_client['income_type'] == 'сотрудник', 'total_income']=data_client.loc[data_client['income_type'] == 'сотрудник', 'total_income'].fillna(value=sotr_mean_total_income)\n",
    "\n",
    "# по типу \"компаньон\":\n",
    "data_client.loc[data_client['income_type'] == 'компаньон', 'total_income']=data_client.loc[data_client['income_type'] == 'компаньон', 'total_income'].fillna(value=comp_mean_total_income)\n",
    "\n",
    "# по типу \"пенсионер\":\n",
    "data_client.loc[data_client['income_type'] == 'пенсионер', 'total_income']=data_client.loc[data_client['income_type'] == 'пенсионер', 'total_income'].fillna(value=pens_mean_total_income)\n",
    "\n",
    "# по типу \"госслужащий\":\n",
    "data_client.loc[data_client['income_type'] == 'госслужащий', 'total_income']=data_client.loc[data_client['income_type'] == 'госслужащий', 'total_income'].fillna(value=gos_mean_total_income)\n",
    "\n",
    "# Средний стажежемесячный доход предпринимателей не посчитался, возможно по ним отсутствуют данные. После заполнения всех \n",
    "# пропусков, которые возможно заполнить, удалим эти строки. Их всего 2. \n",
    "\n",
    "# В типах занятости \"студент\" и \"в декрете\" по одному клиенту, заполнять пропуски нет необходимости - их нет."
   ]
  },
  {
   "cell_type": "code",
   "execution_count": 29,
   "metadata": {},
   "outputs": [
    {
     "name": "stdout",
     "output_type": "stream",
     "text": [
      "<class 'pandas.core.frame.DataFrame'>\n",
      "Int64Index: 21522 entries, 0 to 21524\n",
      "Data columns (total 12 columns):\n",
      "children            21522 non-null int64\n",
      "days_employed       21521 non-null float64\n",
      "dob_years           21522 non-null int64\n",
      "education           21522 non-null object\n",
      "education_id        21522 non-null int64\n",
      "family_status       21522 non-null object\n",
      "family_status_id    21522 non-null int64\n",
      "gender              21522 non-null object\n",
      "income_type         21522 non-null object\n",
      "debt                21522 non-null int64\n",
      "total_income        21521 non-null float64\n",
      "purpose             21522 non-null object\n",
      "dtypes: float64(2), int64(5), object(5)\n",
      "memory usage: 2.1+ MB\n"
     ]
    }
   ],
   "source": [
    "# проверим заполнение:\n",
    "\n",
    "data_client.info()"
   ]
  },
  {
   "cell_type": "code",
   "execution_count": 30,
   "metadata": {},
   "outputs": [
    {
     "name": "stdout",
     "output_type": "stream",
     "text": [
      "Отрицательные значения в столбце с ежемесячным доходом отсутствуют\n"
     ]
    }
   ],
   "source": [
    "# Проверим нет ли отрицательных значений: сравним сумму значений исходного столбца с суммой значений столбца, взятых по модулю,\n",
    "# если они равны, то отрицательных значений нет\n",
    "\n",
    "if data_client['total_income'].sum() == data_client['total_income'].abs().sum():\n",
    "    print('Отрицательные значения в столбце с ежемесячным доходом отсутствуют')"
   ]
  },
  {
   "cell_type": "code",
   "execution_count": 31,
   "metadata": {},
   "outputs": [
    {
     "name": "stdout",
     "output_type": "stream",
     "text": [
      "<class 'pandas.core.frame.DataFrame'>\n",
      "Int64Index: 21521 entries, 0 to 21524\n",
      "Data columns (total 12 columns):\n",
      "children            21521 non-null int64\n",
      "days_employed       21521 non-null float64\n",
      "dob_years           21521 non-null int64\n",
      "education           21521 non-null object\n",
      "education_id        21521 non-null int64\n",
      "family_status       21521 non-null object\n",
      "family_status_id    21521 non-null int64\n",
      "gender              21521 non-null object\n",
      "income_type         21521 non-null object\n",
      "debt                21521 non-null int64\n",
      "total_income        21521 non-null float64\n",
      "purpose             21521 non-null object\n",
      "dtypes: float64(2), int64(5), object(5)\n",
      "memory usage: 2.1+ MB\n"
     ]
    }
   ],
   "source": [
    "# удалим 1 пропущенную строку\n",
    "data_client.dropna(inplace=True)\n",
    "data_client.info()"
   ]
  },
  {
   "cell_type": "markdown",
   "metadata": {},
   "source": [
    "### Вывод"
   ]
  },
  {
   "cell_type": "raw",
   "metadata": {},
   "source": [
    "Пропущенные значения столбца о ежемесячном доходе были заполнены средними по типу занятости каждого клиента. Строки, которые невозможно заполнить были уделены."
   ]
  },
  {
   "cell_type": "code",
   "execution_count": 32,
   "metadata": {},
   "outputs": [
    {
     "data": {
      "text/plain": [
       "свадьба                                   797\n",
       "на проведение свадьбы                     777\n",
       "сыграть свадьбу                           774\n",
       "операции с недвижимостью                  676\n",
       "покупка коммерческой недвижимости         664\n",
       "операции с жильем                         653\n",
       "покупка жилья для сдачи                   652\n",
       "операции с коммерческой недвижимостью     651\n",
       "покупка жилья                             647\n",
       "жилье                                     647\n",
       "покупка жилья для семьи                   641\n",
       "строительство собственной недвижимости    635\n",
       "недвижимость                              634\n",
       "операции со своей недвижимостью           630\n",
       "строительство жилой недвижимости          626\n",
       "покупка недвижимости                      623\n",
       "строительство недвижимости                620\n",
       "покупка своего жилья                      620\n",
       "ремонт жилью                              611\n",
       "покупка жилой недвижимости                606\n",
       "на покупку своего автомобиля              505\n",
       "заняться высшим образованием              496\n",
       "автомобиль                                495\n",
       "сделка с подержанным автомобилем          489\n",
       "свой автомобиль                           480\n",
       "на покупку подержанного автомобиля        479\n",
       "автомобили                                478\n",
       "на покупку автомобиля                     472\n",
       "приобретение автомобиля                   462\n",
       "дополнительное образование                462\n",
       "сделка с автомобилем                      455\n",
       "высшее образование                        453\n",
       "образование                               447\n",
       "получение дополнительного образования     447\n",
       "получение образования                     443\n",
       "профильное образование                    436\n",
       "получение высшего образования             426\n",
       "заняться образованием                     412\n",
       "Name: purpose, dtype: int64"
      ]
     },
     "execution_count": 32,
     "metadata": {},
     "output_type": "execute_result"
    }
   ],
   "source": [
    "# рассмотрим столбец purpose\n",
    "data_client['purpose'].value_counts()\n"
   ]
  },
  {
   "cell_type": "markdown",
   "metadata": {},
   "source": [
    "### Вывод"
   ]
  },
  {
   "cell_type": "raw",
   "metadata": {},
   "source": [
    "В столбце с целью кредита нет пропущенных значений."
   ]
  },
  {
   "cell_type": "markdown",
   "metadata": {},
   "source": [
    "### Замена типа данных"
   ]
  },
  {
   "cell_type": "code",
   "execution_count": 33,
   "metadata": {},
   "outputs": [
    {
     "name": "stdout",
     "output_type": "stream",
     "text": [
      "<class 'pandas.core.frame.DataFrame'>\n",
      "Int64Index: 21521 entries, 0 to 21524\n",
      "Data columns (total 12 columns):\n",
      "children            21521 non-null int64\n",
      "days_employed       21521 non-null int64\n",
      "dob_years           21521 non-null int64\n",
      "education           21521 non-null object\n",
      "education_id        21521 non-null int64\n",
      "family_status       21521 non-null object\n",
      "family_status_id    21521 non-null int64\n",
      "gender              21521 non-null object\n",
      "income_type         21521 non-null object\n",
      "debt                21521 non-null int64\n",
      "total_income        21521 non-null int64\n",
      "purpose             21521 non-null object\n",
      "dtypes: int64(7), object(5)\n",
      "memory usage: 2.1+ MB\n"
     ]
    }
   ],
   "source": [
    "# заменим столбы с типом данных float64 на int64 и проверим как произошла замена:\n",
    "data_client['days_employed'] = data_client['days_employed'].astype('int')\n",
    "data_client['total_income'] = data_client['total_income'].astype('int')\n",
    "data_client.info()"
   ]
  },
  {
   "cell_type": "markdown",
   "metadata": {},
   "source": [
    "---\n",
    "## Комментарий от наставника\n",
    "\n",
    "Исходя из общей информации о таблице мы видим, что два столбца имеют вещественный тип данных, который и надо заменить на целочисленный. Это замена произведена верно. Также хорошо бы освоить метод to_numeric(), он пригодится в дальнейшем. \n",
    "\n",
    "---"
   ]
  },
  {
   "cell_type": "markdown",
   "metadata": {},
   "source": [
    "---\n",
    "## Комментарий от студента\n",
    "В таблице представлены строковые данные в столбцах о типе образования, семейном положении, поле, типе дохода и цели привлечения займа. Нет возможности и необходимости переводить эти данные в количественный тип данных.\n",
    "\n",
    "---"
   ]
  },
  {
   "cell_type": "code",
   "execution_count": 34,
   "metadata": {},
   "outputs": [
    {
     "data": {
      "text/plain": [
       "array(['высшее', 'среднее', 'Среднее', 'СРЕДНЕЕ', 'ВЫСШЕЕ',\n",
       "       'неоконченное высшее', 'начальное', 'Высшее',\n",
       "       'НЕОКОНЧЕННОЕ ВЫСШЕЕ', 'Неоконченное высшее', 'НАЧАЛЬНОЕ',\n",
       "       'Начальное', 'Ученая степень', 'УЧЕНАЯ СТЕПЕНЬ', 'ученая степень'],\n",
       "      dtype=object)"
      ]
     },
     "execution_count": 34,
     "metadata": {},
     "output_type": "execute_result"
    }
   ],
   "source": [
    "# рассмотрим значения столбца с уровнем образования заемщиков\n",
    "data_client['education'].unique()\n"
   ]
  },
  {
   "cell_type": "markdown",
   "metadata": {},
   "source": [
    "Много повторяющихся значений, буквы разного регистра. Приведем все значения к нижнему регистру:"
   ]
  },
  {
   "cell_type": "code",
   "execution_count": 35,
   "metadata": {},
   "outputs": [
    {
     "data": {
      "text/plain": [
       "array(['высшее', 'среднее', 'неоконченное высшее', 'начальное',\n",
       "       'ученая степень'], dtype=object)"
      ]
     },
     "execution_count": 35,
     "metadata": {},
     "output_type": "execute_result"
    }
   ],
   "source": [
    "data_client['education'] = data_client['education'].str.lower()\n",
    "# и проверим на наличие дубликатов\n",
    "data_client['education'].unique()"
   ]
  },
  {
   "cell_type": "markdown",
   "metadata": {},
   "source": [
    "### Вывод"
   ]
  },
  {
   "cell_type": "markdown",
   "metadata": {},
   "source": [
    "Повторяющиеся значения исключены приведением всех значений столбца к нижнему регистру."
   ]
  },
  {
   "cell_type": "markdown",
   "metadata": {},
   "source": [
    "### Обработка дубликатов"
   ]
  },
  {
   "cell_type": "code",
   "execution_count": 36,
   "metadata": {},
   "outputs": [
    {
     "data": {
      "text/plain": [
       "72"
      ]
     },
     "execution_count": 36,
     "metadata": {},
     "output_type": "execute_result"
    }
   ],
   "source": [
    "data_client.duplicated().sum()"
   ]
  },
  {
   "cell_type": "code",
   "execution_count": 37,
   "metadata": {},
   "outputs": [],
   "source": [
    "# удалим дубликаты \n",
    "data_client = data_client.drop_duplicates().reset_index()"
   ]
  },
  {
   "cell_type": "code",
   "execution_count": 38,
   "metadata": {},
   "outputs": [
    {
     "data": {
      "text/plain": [
       "0"
      ]
     },
     "execution_count": 38,
     "metadata": {},
     "output_type": "execute_result"
    }
   ],
   "source": [
    "# и проверим еще раз на наличие дубликатов\n",
    "data_client.duplicated().sum()"
   ]
  },
  {
   "cell_type": "markdown",
   "metadata": {},
   "source": [
    "### Лемматизация"
   ]
  },
  {
   "cell_type": "code",
   "execution_count": 39,
   "metadata": {},
   "outputs": [
    {
     "data": {
      "text/plain": [
       "[('автомобиль \\n', 972),\n",
       " ('свадьба \\n', 791),\n",
       " ('на   проведение   свадьба \\n', 767),\n",
       " ('сыграть   свадьба \\n', 765),\n",
       " ('операция   с   недвижимость \\n', 675),\n",
       " ('покупка   коммерческий   недвижимость \\n', 661),\n",
       " ('операция   с   жилье \\n', 652),\n",
       " ('операция   с   коммерческий   недвижимость \\n', 650),\n",
       " ('покупка   жилье   для   сдача \\n', 650),\n",
       " ('покупка   жилье \\n', 646),\n",
       " ('жилье \\n', 646),\n",
       " ('покупка   жилье   для   семья \\n', 638),\n",
       " ('строительство   собственный   недвижимость \\n', 635),\n",
       " ('недвижимость \\n', 633),\n",
       " ('операция   со   свой   недвижимость \\n', 627),\n",
       " ('строительство   жилой   недвижимость \\n', 624),\n",
       " ('покупка   недвижимость \\n', 620),\n",
       " ('покупка   свой   жилье \\n', 620),\n",
       " ('строительство   недвижимость \\n', 619),\n",
       " ('ремонт   жилье \\n', 606),\n",
       " ('покупка   жилой   недвижимость \\n', 605),\n",
       " ('на   покупка   свой   автомобиль \\n', 505),\n",
       " ('заниматься   высокий   образование \\n', 496),\n",
       " ('сделка   с   подержанный   автомобиль \\n', 486),\n",
       " ('на   покупка   подержать   автомобиль \\n', 478),\n",
       " ('свой   автомобиль \\n', 478),\n",
       " ('на   покупка   автомобиль \\n', 471),\n",
       " ('приобретение   автомобиль \\n', 461),\n",
       " ('дополнительный   образование \\n', 460),\n",
       " ('сделка   с   автомобиль \\n', 455),\n",
       " ('высокий   образование \\n', 452),\n",
       " ('образование \\n', 447),\n",
       " ('получение   дополнительный   образование \\n', 446),\n",
       " ('получение   образование \\n', 442),\n",
       " ('профильный   образование \\n', 436),\n",
       " ('получение   высокий   образование \\n', 426),\n",
       " ('заниматься   образование \\n', 408)]"
      ]
     },
     "execution_count": 39,
     "metadata": {},
     "output_type": "execute_result"
    }
   ],
   "source": [
    "from pymystem3 import Mystem\n",
    "m = Mystem()\n",
    "# лемматизируем столбец с целью привлечения займа клиентом\n",
    "# для этого определим функцию lemma_in_row(purpose)\n",
    "\n",
    "def lemma_in_row(purpose):\n",
    "    lemma = ' '.join(m.lemmatize(purpose))\n",
    "    return lemma\n",
    "\n",
    "# создадим столбец purpose_lemma, в котором будут леммы столбца purpose\n",
    "data_client['purpose_lemma'] = data_client['purpose'].apply(lemma_in_row)\n",
    "\n",
    "# посчитаем количество уникальных лемм и выведем их в порядке убывания:\n",
    "from collections import Counter\n",
    "purpose_lemma_count = Counter(data_client['purpose_lemma'])\n",
    "purpose_lemma_count.most_common()"
   ]
  },
  {
   "cell_type": "markdown",
   "metadata": {},
   "source": [
    "### Вывод"
   ]
  },
  {
   "cell_type": "raw",
   "metadata": {},
   "source": [
    "Как видно из выведенного списка наиболее распространенными целями привлечения займа являются сделки с автомобилями, сделки с недвижимостью, образование и свадьба."
   ]
  },
  {
   "cell_type": "markdown",
   "metadata": {},
   "source": [
    "---\n",
    "## Комментарий от наставника\n",
    "\n",
    "Все верно, метод lemmatize() использован правильно. Хорошо бы на данном этапе подробно объяснить выбор лемм +.\n",
    "\n",
    "---"
   ]
  },
  {
   "cell_type": "markdown",
   "metadata": {},
   "source": [
    "### Категоризация данных"
   ]
  },
  {
   "cell_type": "code",
   "execution_count": 40,
   "metadata": {},
   "outputs": [
    {
     "data": {
      "text/plain": [
       "сделка с недвижимостью    10807\n",
       "сделка с автомобилем       4306\n",
       "образование                4013\n",
       "свадьба                    2323\n",
       "Name: purpose_category, dtype: int64"
      ]
     },
     "execution_count": 40,
     "metadata": {},
     "output_type": "execute_result"
    }
   ],
   "source": [
    "# создадим столбец purpose_category на основании данных лемматизации столбца purpose_lemma\n",
    "def purpose_category(purpose_lemma):\n",
    "    if 'автомобиль' in purpose_lemma:\n",
    "        return \"сделка с автомобилем\"\n",
    "    if \"образование\" in purpose_lemma:\n",
    "        return \"образование\"\n",
    "    if \"свадьба\" in purpose_lemma:\n",
    "        return \"свадьба\"\n",
    "    if \"недвижимость\" in purpose_lemma:\n",
    "        return \"сделка с недвижимостью\"\n",
    "    if \"строительство\" in purpose_lemma:\n",
    "        return \"сделка с недвижимостью\"\n",
    "    if \"жилье\" in purpose_lemma:\n",
    "        return \"сделка с недвижимостью\"\n",
    "data_client['purpose_category'] = data_client['purpose_lemma'].apply(purpose_category)\n",
    "\n",
    "# Выведем статистику по целям привлечения займа\n",
    "data_client['purpose_category'].value_counts()"
   ]
  },
  {
   "cell_type": "code",
   "execution_count": 41,
   "metadata": {},
   "outputs": [
    {
     "data": {
      "text/html": [
       "<div>\n",
       "<style scoped>\n",
       "    .dataframe tbody tr th:only-of-type {\n",
       "        vertical-align: middle;\n",
       "    }\n",
       "\n",
       "    .dataframe tbody tr th {\n",
       "        vertical-align: top;\n",
       "    }\n",
       "\n",
       "    .dataframe thead th {\n",
       "        text-align: right;\n",
       "    }\n",
       "</style>\n",
       "<table border=\"1\" class=\"dataframe\">\n",
       "  <thead>\n",
       "    <tr style=\"text-align: right;\">\n",
       "      <th></th>\n",
       "      <th>index</th>\n",
       "      <th>children</th>\n",
       "      <th>days_employed</th>\n",
       "      <th>dob_years</th>\n",
       "      <th>education</th>\n",
       "      <th>education_id</th>\n",
       "      <th>family_status</th>\n",
       "      <th>family_status_id</th>\n",
       "      <th>gender</th>\n",
       "      <th>income_type</th>\n",
       "      <th>debt</th>\n",
       "      <th>total_income</th>\n",
       "      <th>purpose_category</th>\n",
       "    </tr>\n",
       "  </thead>\n",
       "  <tbody>\n",
       "    <tr>\n",
       "      <td>0</td>\n",
       "      <td>0</td>\n",
       "      <td>1</td>\n",
       "      <td>8437</td>\n",
       "      <td>42</td>\n",
       "      <td>высшее</td>\n",
       "      <td>0</td>\n",
       "      <td>женат / замужем</td>\n",
       "      <td>0</td>\n",
       "      <td>F</td>\n",
       "      <td>сотрудник</td>\n",
       "      <td>0</td>\n",
       "      <td>253875</td>\n",
       "      <td>сделка с недвижимостью</td>\n",
       "    </tr>\n",
       "    <tr>\n",
       "      <td>1</td>\n",
       "      <td>1</td>\n",
       "      <td>1</td>\n",
       "      <td>4024</td>\n",
       "      <td>36</td>\n",
       "      <td>среднее</td>\n",
       "      <td>1</td>\n",
       "      <td>женат / замужем</td>\n",
       "      <td>0</td>\n",
       "      <td>F</td>\n",
       "      <td>сотрудник</td>\n",
       "      <td>0</td>\n",
       "      <td>112080</td>\n",
       "      <td>сделка с автомобилем</td>\n",
       "    </tr>\n",
       "    <tr>\n",
       "      <td>2</td>\n",
       "      <td>2</td>\n",
       "      <td>0</td>\n",
       "      <td>5623</td>\n",
       "      <td>33</td>\n",
       "      <td>среднее</td>\n",
       "      <td>1</td>\n",
       "      <td>женат / замужем</td>\n",
       "      <td>0</td>\n",
       "      <td>M</td>\n",
       "      <td>сотрудник</td>\n",
       "      <td>0</td>\n",
       "      <td>145885</td>\n",
       "      <td>сделка с недвижимостью</td>\n",
       "    </tr>\n",
       "    <tr>\n",
       "      <td>3</td>\n",
       "      <td>3</td>\n",
       "      <td>3</td>\n",
       "      <td>4124</td>\n",
       "      <td>32</td>\n",
       "      <td>среднее</td>\n",
       "      <td>1</td>\n",
       "      <td>женат / замужем</td>\n",
       "      <td>0</td>\n",
       "      <td>M</td>\n",
       "      <td>сотрудник</td>\n",
       "      <td>0</td>\n",
       "      <td>267628</td>\n",
       "      <td>образование</td>\n",
       "    </tr>\n",
       "    <tr>\n",
       "      <td>4</td>\n",
       "      <td>4</td>\n",
       "      <td>0</td>\n",
       "      <td>340266</td>\n",
       "      <td>53</td>\n",
       "      <td>среднее</td>\n",
       "      <td>1</td>\n",
       "      <td>гражданский брак</td>\n",
       "      <td>1</td>\n",
       "      <td>F</td>\n",
       "      <td>пенсионер</td>\n",
       "      <td>0</td>\n",
       "      <td>158616</td>\n",
       "      <td>свадьба</td>\n",
       "    </tr>\n",
       "    <tr>\n",
       "      <td>...</td>\n",
       "      <td>...</td>\n",
       "      <td>...</td>\n",
       "      <td>...</td>\n",
       "      <td>...</td>\n",
       "      <td>...</td>\n",
       "      <td>...</td>\n",
       "      <td>...</td>\n",
       "      <td>...</td>\n",
       "      <td>...</td>\n",
       "      <td>...</td>\n",
       "      <td>...</td>\n",
       "      <td>...</td>\n",
       "      <td>...</td>\n",
       "    </tr>\n",
       "    <tr>\n",
       "      <td>21444</td>\n",
       "      <td>21520</td>\n",
       "      <td>1</td>\n",
       "      <td>4529</td>\n",
       "      <td>43</td>\n",
       "      <td>среднее</td>\n",
       "      <td>1</td>\n",
       "      <td>гражданский брак</td>\n",
       "      <td>1</td>\n",
       "      <td>F</td>\n",
       "      <td>компаньон</td>\n",
       "      <td>0</td>\n",
       "      <td>224791</td>\n",
       "      <td>сделка с недвижимостью</td>\n",
       "    </tr>\n",
       "    <tr>\n",
       "      <td>21445</td>\n",
       "      <td>21521</td>\n",
       "      <td>0</td>\n",
       "      <td>343937</td>\n",
       "      <td>67</td>\n",
       "      <td>среднее</td>\n",
       "      <td>1</td>\n",
       "      <td>женат / замужем</td>\n",
       "      <td>0</td>\n",
       "      <td>F</td>\n",
       "      <td>пенсионер</td>\n",
       "      <td>0</td>\n",
       "      <td>155999</td>\n",
       "      <td>сделка с автомобилем</td>\n",
       "    </tr>\n",
       "    <tr>\n",
       "      <td>21446</td>\n",
       "      <td>21522</td>\n",
       "      <td>1</td>\n",
       "      <td>2113</td>\n",
       "      <td>38</td>\n",
       "      <td>среднее</td>\n",
       "      <td>1</td>\n",
       "      <td>гражданский брак</td>\n",
       "      <td>1</td>\n",
       "      <td>M</td>\n",
       "      <td>сотрудник</td>\n",
       "      <td>1</td>\n",
       "      <td>89672</td>\n",
       "      <td>сделка с недвижимостью</td>\n",
       "    </tr>\n",
       "    <tr>\n",
       "      <td>21447</td>\n",
       "      <td>21523</td>\n",
       "      <td>3</td>\n",
       "      <td>3112</td>\n",
       "      <td>38</td>\n",
       "      <td>среднее</td>\n",
       "      <td>1</td>\n",
       "      <td>женат / замужем</td>\n",
       "      <td>0</td>\n",
       "      <td>M</td>\n",
       "      <td>сотрудник</td>\n",
       "      <td>1</td>\n",
       "      <td>244093</td>\n",
       "      <td>сделка с автомобилем</td>\n",
       "    </tr>\n",
       "    <tr>\n",
       "      <td>21448</td>\n",
       "      <td>21524</td>\n",
       "      <td>2</td>\n",
       "      <td>1984</td>\n",
       "      <td>40</td>\n",
       "      <td>среднее</td>\n",
       "      <td>1</td>\n",
       "      <td>женат / замужем</td>\n",
       "      <td>0</td>\n",
       "      <td>F</td>\n",
       "      <td>сотрудник</td>\n",
       "      <td>0</td>\n",
       "      <td>82047</td>\n",
       "      <td>сделка с автомобилем</td>\n",
       "    </tr>\n",
       "  </tbody>\n",
       "</table>\n",
       "<p>21449 rows × 13 columns</p>\n",
       "</div>"
      ],
      "text/plain": [
       "       index  children  days_employed  dob_years education  education_id  \\\n",
       "0          0         1           8437         42    высшее             0   \n",
       "1          1         1           4024         36   среднее             1   \n",
       "2          2         0           5623         33   среднее             1   \n",
       "3          3         3           4124         32   среднее             1   \n",
       "4          4         0         340266         53   среднее             1   \n",
       "...      ...       ...            ...        ...       ...           ...   \n",
       "21444  21520         1           4529         43   среднее             1   \n",
       "21445  21521         0         343937         67   среднее             1   \n",
       "21446  21522         1           2113         38   среднее             1   \n",
       "21447  21523         3           3112         38   среднее             1   \n",
       "21448  21524         2           1984         40   среднее             1   \n",
       "\n",
       "          family_status  family_status_id gender income_type  debt  \\\n",
       "0       женат / замужем                 0      F   сотрудник     0   \n",
       "1       женат / замужем                 0      F   сотрудник     0   \n",
       "2       женат / замужем                 0      M   сотрудник     0   \n",
       "3       женат / замужем                 0      M   сотрудник     0   \n",
       "4      гражданский брак                 1      F   пенсионер     0   \n",
       "...                 ...               ...    ...         ...   ...   \n",
       "21444  гражданский брак                 1      F   компаньон     0   \n",
       "21445   женат / замужем                 0      F   пенсионер     0   \n",
       "21446  гражданский брак                 1      M   сотрудник     1   \n",
       "21447   женат / замужем                 0      M   сотрудник     1   \n",
       "21448   женат / замужем                 0      F   сотрудник     0   \n",
       "\n",
       "       total_income        purpose_category  \n",
       "0            253875  сделка с недвижимостью  \n",
       "1            112080    сделка с автомобилем  \n",
       "2            145885  сделка с недвижимостью  \n",
       "3            267628             образование  \n",
       "4            158616                 свадьба  \n",
       "...             ...                     ...  \n",
       "21444        224791  сделка с недвижимостью  \n",
       "21445        155999    сделка с автомобилем  \n",
       "21446         89672  сделка с недвижимостью  \n",
       "21447        244093    сделка с автомобилем  \n",
       "21448         82047    сделка с автомобилем  \n",
       "\n",
       "[21449 rows x 13 columns]"
      ]
     },
     "execution_count": 41,
     "metadata": {},
     "output_type": "execute_result"
    }
   ],
   "source": [
    "# удалим столбец purpose\n",
    "data_client.drop('purpose', axis=1, inplace=True) \n",
    "\n",
    "# удалим столбец purpose_lemma\n",
    "data_client.drop('purpose_lemma', axis=1, inplace=True)\n",
    "\n",
    "# посмотрим на результат\n",
    "data_client"
   ]
  },
  {
   "cell_type": "markdown",
   "metadata": {},
   "source": [
    "### Вывод"
   ]
  },
  {
   "cell_type": "markdown",
   "metadata": {},
   "source": [
    "После проведения категоризации данных в столбце purpose цели привлечения займа разделены на 4 группы: сделка с недвижимостью, сделка с автомобилем, образование, свадьба."
   ]
  },
  {
   "cell_type": "code",
   "execution_count": 42,
   "metadata": {
    "scrolled": true
   },
   "outputs": [
    {
     "name": "stdout",
     "output_type": "stream",
     "text": [
      "Минимальный доход заемщиков составляет 20667 у.е.\n",
      "Медиана доходов заемщиков составляет 151846 у.е.\n",
      "Средний доход заемщиков составляет 167418 у.е.\n",
      "Максимальный доход заемщиков составляет 2265604 у.е.\n"
     ]
    },
    {
     "data": {
      "text/plain": [
       "count    2.144900e+04\n",
       "mean     1.674181e+05\n",
       "std      9.804250e+04\n",
       "min      2.066700e+04\n",
       "25%      1.076200e+05\n",
       "50%      1.518460e+05\n",
       "75%      2.024170e+05\n",
       "max      2.265604e+06\n",
       "Name: total_income, dtype: float64"
      ]
     },
     "execution_count": 42,
     "metadata": {},
     "output_type": "execute_result"
    }
   ],
   "source": [
    "# для удобства поиска ответа на поставленную задачу о зависимости между уровнем дохода и возвратом кредита в срок сгруппируем\n",
    "# доходы заемщиков в группы\n",
    "# для этого проверим максимальное, минимальное, среднее и медианное значение доходов заемщиков:\n",
    "\n",
    "print('Минимальный доход заемщиков составляет', data_client['total_income'].min(), 'у.е.')\n",
    "print('Медиана доходов заемщиков составляет {:.0f}'.format(data_client['total_income'].median()), 'у.е.')\n",
    "print('Средний доход заемщиков составляет {:.0f}'.format(data_client['total_income'].mean()), 'у.е.') \n",
    "print('Максимальный доход заемщиков составляет', data_client['total_income'].max(), 'у.е.')\n",
    "\n",
    "data_client['total_income'].describe()"
   ]
  },
  {
   "cell_type": "markdown",
   "metadata": {},
   "source": [
    "---\n",
    "## Комментарий от наставника\n",
    "\n",
    "Эти и другие параметры можно получить при использовании метода describe(). \n",
    "\n",
    "---"
   ]
  },
  {
   "cell_type": "code",
   "execution_count": 43,
   "metadata": {},
   "outputs": [
    {
     "data": {
      "text/plain": [
       "Средние доходы          8356\n",
       "Доходы ниже среднего    6844\n",
       "Доходы выше среднего    4594\n",
       "Высокие доходы          1655\n",
       "Name: group_in, dtype: int64"
      ]
     },
     "execution_count": 43,
     "metadata": {},
     "output_type": "execute_result"
    }
   ],
   "source": [
    "# сгруппируем доходы заемщиков \n",
    "\n",
    "def group_of_income(row):\n",
    "    \n",
    "    income = row['total_income']\n",
    "  \n",
    " # возьмем доходы с отклонением примерно в 40 000 у.е. от медианы как Средний тип доходов, все что ниже - Доходы ниже среднего\n",
    " # выше - Доходы выше среднего, а очень большие доходы выделим в тип - Высокие доходы\n",
    "    if income <= 120000:\n",
    "        return 'Доходы ниже среднего'\n",
    "   \n",
    "    if income <= 190000 and income > 110000:\n",
    "        return 'Средние доходы'\n",
    "    \n",
    "    if income <= 290000 and income > 190000:\n",
    "        return 'Доходы выше среднего'\n",
    "    \n",
    "    if income <= 2265604 and income > 290000:\n",
    "        return 'Высокие доходы'\n",
    "\n",
    "data_client['group_in'] = data_client.apply(group_of_income, axis=1)\n",
    "data_client\n",
    "data_client['group_in'].value_counts()"
   ]
  },
  {
   "cell_type": "markdown",
   "metadata": {},
   "source": [
    "### Шаг 3. Определение зависимостей"
   ]
  },
  {
   "cell_type": "markdown",
   "metadata": {},
   "source": [
    "- Есть ли зависимость между наличием детей и возвратом кредита в срок?"
   ]
  },
  {
   "cell_type": "code",
   "execution_count": 44,
   "metadata": {},
   "outputs": [
    {
     "name": "stdout",
     "output_type": "stream",
     "text": [
      "В 8.83% случаев кредит не возвращался вовремя\n"
     ]
    }
   ],
   "source": [
    "# посчитаем процент заемщиков, которые имели задолженность по возврату кредита:\n",
    "\n",
    "delay_per = data_client['debt'][(data_client['debt'] == 1)].count() / data_client['debt'][(data_client['debt'] == 0)].count()\n",
    "print('В {:.2%}'.format(delay_per), 'случаев кредит не возвращался вовремя')"
   ]
  },
  {
   "cell_type": "code",
   "execution_count": 45,
   "metadata": {},
   "outputs": [
    {
     "data": {
      "text/html": [
       "<div>\n",
       "<style scoped>\n",
       "    .dataframe tbody tr th:only-of-type {\n",
       "        vertical-align: middle;\n",
       "    }\n",
       "\n",
       "    .dataframe tbody tr th {\n",
       "        vertical-align: top;\n",
       "    }\n",
       "\n",
       "    .dataframe thead th {\n",
       "        text-align: right;\n",
       "    }\n",
       "</style>\n",
       "<table border=\"1\" class=\"dataframe\">\n",
       "  <thead>\n",
       "    <tr style=\"text-align: right;\">\n",
       "      <th></th>\n",
       "      <th>Добросовестный плательщик</th>\n",
       "      <th>Должник</th>\n",
       "      <th>Доля должников</th>\n",
       "      <th>Отклонение от общего уровня должников</th>\n",
       "    </tr>\n",
       "    <tr>\n",
       "      <th>children</th>\n",
       "      <th></th>\n",
       "      <th></th>\n",
       "      <th></th>\n",
       "      <th></th>\n",
       "    </tr>\n",
       "  </thead>\n",
       "  <tbody>\n",
       "    <tr>\n",
       "      <td>0</td>\n",
       "      <td>13024.0</td>\n",
       "      <td>1063.0</td>\n",
       "      <td>0.081619</td>\n",
       "      <td>-0.006666</td>\n",
       "    </tr>\n",
       "    <tr>\n",
       "      <td>1</td>\n",
       "      <td>4410.0</td>\n",
       "      <td>444.0</td>\n",
       "      <td>0.100680</td>\n",
       "      <td>0.012396</td>\n",
       "    </tr>\n",
       "    <tr>\n",
       "      <td>2</td>\n",
       "      <td>1926.0</td>\n",
       "      <td>202.0</td>\n",
       "      <td>0.104881</td>\n",
       "      <td>0.016596</td>\n",
       "    </tr>\n",
       "    <tr>\n",
       "      <td>3</td>\n",
       "      <td>303.0</td>\n",
       "      <td>27.0</td>\n",
       "      <td>0.089109</td>\n",
       "      <td>0.000824</td>\n",
       "    </tr>\n",
       "    <tr>\n",
       "      <td>4</td>\n",
       "      <td>37.0</td>\n",
       "      <td>4.0</td>\n",
       "      <td>0.108108</td>\n",
       "      <td>0.019824</td>\n",
       "    </tr>\n",
       "    <tr>\n",
       "      <td>5</td>\n",
       "      <td>9.0</td>\n",
       "      <td>NaN</td>\n",
       "      <td>NaN</td>\n",
       "      <td>NaN</td>\n",
       "    </tr>\n",
       "  </tbody>\n",
       "</table>\n",
       "</div>"
      ],
      "text/plain": [
       "          Добросовестный плательщик  Должник  Доля должников  \\\n",
       "children                                                       \n",
       "0                           13024.0   1063.0        0.081619   \n",
       "1                            4410.0    444.0        0.100680   \n",
       "2                            1926.0    202.0        0.104881   \n",
       "3                             303.0     27.0        0.089109   \n",
       "4                              37.0      4.0        0.108108   \n",
       "5                               9.0      NaN             NaN   \n",
       "\n",
       "          Отклонение от общего уровня должников  \n",
       "children                                         \n",
       "0                                     -0.006666  \n",
       "1                                      0.012396  \n",
       "2                                      0.016596  \n",
       "3                                      0.000824  \n",
       "4                                      0.019824  \n",
       "5                                           NaN  "
      ]
     },
     "execution_count": 45,
     "metadata": {},
     "output_type": "execute_result"
    }
   ],
   "source": [
    "# для оценки влияния количества детей заемщика на факт погашения кредита в срок\n",
    "# построим сводную таблицу на основании обработанной исходной таблицы\n",
    "# группировку проведем по столбцу children, столбец, по значениям которого проведем группировку - debt\n",
    "# значения, по которым будет сводная таблица  - значения столбца family_status, для которого применим функцию count():\n",
    "\n",
    "data_client_pivot_children = data_client.pivot_table(index=['children'], columns='debt', values = 'family_status', aggfunc='count')\n",
    "\n",
    "# для удобства восприятия переименуем в полученной таблице названия столбцов с 0 и 1 на Добросовестного плательщика и Должник\n",
    "# соответственно:\n",
    "\n",
    "new_names = ['Добросовестный плательщик', 'Должник']\n",
    "data_client_pivot_children.set_axis(new_names, axis = \"columns\", inplace = True)\n",
    "\n",
    "\n",
    "# создадим в полученной таблице столбец, в котором будет рассчитана доля должников с разным количеством детей и назовем его\n",
    "# Доля должников, и столбец, в котором будет рассчитано отклонение доли должников с разным количеством детей от общего уровня\n",
    "# должников и назовем его Отклонение от общего уровня должников\n",
    "\n",
    "data_client_pivot_children['Доля должников'] = data_client_pivot_children['Должник'] / data_client_pivot_children['Добросовестный плательщик']\n",
    "data_client_pivot_children['Отклонение от общего уровня должников'] = data_client_pivot_children['Доля должников'] - delay_per\n",
    "data_client_pivot_children"
   ]
  },
  {
   "cell_type": "markdown",
   "metadata": {},
   "source": [
    "### Вывод"
   ]
  },
  {
   "cell_type": "markdown",
   "metadata": {},
   "source": [
    "На основании сводной таблицы можно сделать вывод, что вероятность появления задолженности по возврату кредита увеличивается c появлением в семье детей. "
   ]
  },
  {
   "cell_type": "markdown",
   "metadata": {},
   "source": [
    "- Есть ли зависимость между семейным положением и возвратом кредита в срок?"
   ]
  },
  {
   "cell_type": "code",
   "execution_count": 46,
   "metadata": {},
   "outputs": [
    {
     "data": {
      "text/html": [
       "<div>\n",
       "<style scoped>\n",
       "    .dataframe tbody tr th:only-of-type {\n",
       "        vertical-align: middle;\n",
       "    }\n",
       "\n",
       "    .dataframe tbody tr th {\n",
       "        vertical-align: top;\n",
       "    }\n",
       "\n",
       "    .dataframe thead th {\n",
       "        text-align: right;\n",
       "    }\n",
       "</style>\n",
       "<table border=\"1\" class=\"dataframe\">\n",
       "  <thead>\n",
       "    <tr style=\"text-align: right;\">\n",
       "      <th></th>\n",
       "      <th>Добросовестный плательщик</th>\n",
       "      <th>Должник</th>\n",
       "      <th>Доля должников</th>\n",
       "      <th>Отклонение от общего уровня должников</th>\n",
       "    </tr>\n",
       "    <tr>\n",
       "      <th>family_status</th>\n",
       "      <th></th>\n",
       "      <th></th>\n",
       "      <th></th>\n",
       "      <th></th>\n",
       "    </tr>\n",
       "  </thead>\n",
       "  <tbody>\n",
       "    <tr>\n",
       "      <td>Не женат / не замужем</td>\n",
       "      <td>2536</td>\n",
       "      <td>274</td>\n",
       "      <td>0.108044</td>\n",
       "      <td>0.019760</td>\n",
       "    </tr>\n",
       "    <tr>\n",
       "      <td>в разводе</td>\n",
       "      <td>1110</td>\n",
       "      <td>85</td>\n",
       "      <td>0.076577</td>\n",
       "      <td>-0.011708</td>\n",
       "    </tr>\n",
       "    <tr>\n",
       "      <td>вдовец / вдова</td>\n",
       "      <td>896</td>\n",
       "      <td>63</td>\n",
       "      <td>0.070312</td>\n",
       "      <td>-0.017972</td>\n",
       "    </tr>\n",
       "    <tr>\n",
       "      <td>гражданский брак</td>\n",
       "      <td>3760</td>\n",
       "      <td>388</td>\n",
       "      <td>0.103191</td>\n",
       "      <td>0.014907</td>\n",
       "    </tr>\n",
       "    <tr>\n",
       "      <td>женат / замужем</td>\n",
       "      <td>11407</td>\n",
       "      <td>930</td>\n",
       "      <td>0.081529</td>\n",
       "      <td>-0.006756</td>\n",
       "    </tr>\n",
       "  </tbody>\n",
       "</table>\n",
       "</div>"
      ],
      "text/plain": [
       "                       Добросовестный плательщик  Должник  Доля должников  \\\n",
       "family_status                                                               \n",
       "Не женат / не замужем                       2536      274        0.108044   \n",
       "в разводе                                   1110       85        0.076577   \n",
       "вдовец / вдова                               896       63        0.070312   \n",
       "гражданский брак                            3760      388        0.103191   \n",
       "женат / замужем                            11407      930        0.081529   \n",
       "\n",
       "                       Отклонение от общего уровня должников  \n",
       "family_status                                                 \n",
       "Не женат / не замужем                               0.019760  \n",
       "в разводе                                          -0.011708  \n",
       "вдовец / вдова                                     -0.017972  \n",
       "гражданский брак                                    0.014907  \n",
       "женат / замужем                                    -0.006756  "
      ]
     },
     "execution_count": 46,
     "metadata": {},
     "output_type": "execute_result"
    }
   ],
   "source": [
    "# для оценки влияния семейного положения заемщика на факт погашения кредита в срок\n",
    "# построим сводную таблицу на основании обработанной исходной таблицы\n",
    "# группировку проведем по столбцу family_status, столбец, по значениям которого проведем группировку - debt\n",
    "# значения, по которым будет сводная таблица  - значения столбца family_status_id, для которого применим функцию count():\n",
    "\n",
    "data_client_pivot_family_status = data_client.pivot_table(index=['family_status'], columns='debt', values = 'family_status_id', aggfunc='count')\n",
    "\n",
    "\n",
    "# для удобства восприятия переименуем в полученной таблице названия столбцов с 0 и 1 на Добросовестного плательщика и Должник\n",
    "# соответственно:\n",
    "\n",
    "new_names = ['Добросовестный плательщик', 'Должник']\n",
    "data_client_pivot_family_status.set_axis(new_names, axis = \"columns\", inplace = True)\n",
    "\n",
    "\n",
    "# создадим в полученной таблице столбец, в котором будет рассчитана доля должников с разным семейным положением и назовем его \n",
    "# Доля должников, и столбец, в котором будет рассчитано отклонение доли должников с разным семейным положением от общего уровня\n",
    "# должников и назовем его Отклонение от общего уровня должников\n",
    "\n",
    "data_client_pivot_family_status['Доля должников'] = data_client_pivot_family_status['Должник'] / data_client_pivot_family_status['Добросовестный плательщик']\n",
    "data_client_pivot_family_status['Отклонение от общего уровня должников'] = data_client_pivot_family_status['Доля должников'] - delay_per\n",
    "data_client_pivot_family_status"
   ]
  },
  {
   "cell_type": "markdown",
   "metadata": {},
   "source": [
    "### Вывод"
   ]
  },
  {
   "cell_type": "markdown",
   "metadata": {},
   "source": [
    "На основании сводной таблицы можно сделать вывод, что заемщики, живущие в гражданском браке, и неженатые/незамужние заемщики чаще, чем остальные, имеют задолженность по оплате кредита, а самые ответственные заемщики - вдовцы."
   ]
  },
  {
   "cell_type": "markdown",
   "metadata": {},
   "source": [
    "- Есть ли зависимость между уровнем дохода и возвратом кредита в срок?"
   ]
  },
  {
   "cell_type": "code",
   "execution_count": 47,
   "metadata": {},
   "outputs": [
    {
     "data": {
      "text/html": [
       "<div>\n",
       "<style scoped>\n",
       "    .dataframe tbody tr th:only-of-type {\n",
       "        vertical-align: middle;\n",
       "    }\n",
       "\n",
       "    .dataframe tbody tr th {\n",
       "        vertical-align: top;\n",
       "    }\n",
       "\n",
       "    .dataframe thead th {\n",
       "        text-align: right;\n",
       "    }\n",
       "</style>\n",
       "<table border=\"1\" class=\"dataframe\">\n",
       "  <thead>\n",
       "    <tr style=\"text-align: right;\">\n",
       "      <th></th>\n",
       "      <th>Добросовестный плательщик</th>\n",
       "      <th>Должник</th>\n",
       "      <th>Доля должников</th>\n",
       "      <th>Отклонение от общего уровня должников</th>\n",
       "    </tr>\n",
       "    <tr>\n",
       "      <th>group_in</th>\n",
       "      <th></th>\n",
       "      <th></th>\n",
       "      <th></th>\n",
       "      <th></th>\n",
       "    </tr>\n",
       "  </thead>\n",
       "  <tbody>\n",
       "    <tr>\n",
       "      <td>Высокие доходы</td>\n",
       "      <td>1535</td>\n",
       "      <td>120</td>\n",
       "      <td>0.078176</td>\n",
       "      <td>-0.010109</td>\n",
       "    </tr>\n",
       "    <tr>\n",
       "      <td>Доходы выше среднего</td>\n",
       "      <td>4266</td>\n",
       "      <td>328</td>\n",
       "      <td>0.076887</td>\n",
       "      <td>-0.011398</td>\n",
       "    </tr>\n",
       "    <tr>\n",
       "      <td>Доходы ниже среднего</td>\n",
       "      <td>6294</td>\n",
       "      <td>550</td>\n",
       "      <td>0.087385</td>\n",
       "      <td>-0.000900</td>\n",
       "    </tr>\n",
       "    <tr>\n",
       "      <td>Средние доходы</td>\n",
       "      <td>7614</td>\n",
       "      <td>742</td>\n",
       "      <td>0.097452</td>\n",
       "      <td>0.009168</td>\n",
       "    </tr>\n",
       "  </tbody>\n",
       "</table>\n",
       "</div>"
      ],
      "text/plain": [
       "                      Добросовестный плательщик  Должник  Доля должников  \\\n",
       "group_in                                                                   \n",
       "Высокие доходы                             1535      120        0.078176   \n",
       "Доходы выше среднего                       4266      328        0.076887   \n",
       "Доходы ниже среднего                       6294      550        0.087385   \n",
       "Средние доходы                             7614      742        0.097452   \n",
       "\n",
       "                      Отклонение от общего уровня должников  \n",
       "group_in                                                     \n",
       "Высокие доходы                                    -0.010109  \n",
       "Доходы выше среднего                              -0.011398  \n",
       "Доходы ниже среднего                              -0.000900  \n",
       "Средние доходы                                     0.009168  "
      ]
     },
     "execution_count": 47,
     "metadata": {},
     "output_type": "execute_result"
    }
   ],
   "source": [
    "# для оценки влияния уровня дохода заемщика на факт погашения кредита в срок\n",
    "# построим сводную таблицу на основании обработанной исходной таблицы\n",
    "# группировку проведем по столбцу group_in, столбец, по значениям которого проведем группировку - debt\n",
    "# значения, по которым будет сводная таблица  - значения столбца family_status_id, для которого применим функцию count():\n",
    "\n",
    "data_client_pivot_groupf_in = data_client.pivot_table(index=['group_in'], columns='debt', values='family_status_id', aggfunc='count')\n",
    "\n",
    "# для удобства восприятия переименуем в полученной таблице названия столбцов с 0 и 1 на Добросовестного плательщика и Должник\n",
    "# соответственно:\n",
    "\n",
    "new_names = ['Добросовестный плательщик', 'Должник']\n",
    "data_client_pivot_groupf_in.set_axis(new_names, axis = \"columns\", inplace = True)\n",
    "\n",
    "\n",
    "# создадим в полученной таблице столбец, в котором будет рассчитана доля должников с разным уровнем дохода и назовем его \n",
    "# Доля должников, и столбец, в котором будет рассчитано отклонение доли должников с разным уровнем дохода от общего уровня\n",
    "# должников и назовем его Отклонение от общего уровня должников\n",
    "\n",
    "data_client_pivot_groupf_in['Доля должников'] = data_client_pivot_groupf_in['Должник'] / data_client_pivot_groupf_in['Добросовестный плательщик']\n",
    "data_client_pivot_groupf_in['Отклонение от общего уровня должников'] = data_client_pivot_groupf_in['Доля должников'] - delay_per\n",
    "data_client_pivot_groupf_in"
   ]
  },
  {
   "cell_type": "markdown",
   "metadata": {},
   "source": [
    "### Вывод"
   ]
  },
  {
   "cell_type": "markdown",
   "metadata": {},
   "source": [
    "На основании сводной таблицы можно сделать вывод, что заемщики с доходами вышего среднего  - самые ответственные заемщики, которые в меньшем количестве случаев, чем остальные, имели задолженность по оплате кредита. А заемщики со средними доходами имеют большую склонность к задержке оплаты кредита."
   ]
  },
  {
   "cell_type": "markdown",
   "metadata": {},
   "source": [
    "- Как разные цели кредита влияют на его возврат в срок?"
   ]
  },
  {
   "cell_type": "code",
   "execution_count": 48,
   "metadata": {},
   "outputs": [
    {
     "data": {
      "text/html": [
       "<div>\n",
       "<style scoped>\n",
       "    .dataframe tbody tr th:only-of-type {\n",
       "        vertical-align: middle;\n",
       "    }\n",
       "\n",
       "    .dataframe tbody tr th {\n",
       "        vertical-align: top;\n",
       "    }\n",
       "\n",
       "    .dataframe thead th {\n",
       "        text-align: right;\n",
       "    }\n",
       "</style>\n",
       "<table border=\"1\" class=\"dataframe\">\n",
       "  <thead>\n",
       "    <tr style=\"text-align: right;\">\n",
       "      <th></th>\n",
       "      <th>Добросовестный плательщик</th>\n",
       "      <th>Должник</th>\n",
       "      <th>Доля должников</th>\n",
       "      <th>Отклонение от общего уровня должников</th>\n",
       "    </tr>\n",
       "    <tr>\n",
       "      <th>purpose_category</th>\n",
       "      <th></th>\n",
       "      <th></th>\n",
       "      <th></th>\n",
       "      <th></th>\n",
       "    </tr>\n",
       "  </thead>\n",
       "  <tbody>\n",
       "    <tr>\n",
       "      <td>образование</td>\n",
       "      <td>3643</td>\n",
       "      <td>370</td>\n",
       "      <td>0.101565</td>\n",
       "      <td>0.013280</td>\n",
       "    </tr>\n",
       "    <tr>\n",
       "      <td>свадьба</td>\n",
       "      <td>2137</td>\n",
       "      <td>186</td>\n",
       "      <td>0.087038</td>\n",
       "      <td>-0.001247</td>\n",
       "    </tr>\n",
       "    <tr>\n",
       "      <td>сделка с автомобилем</td>\n",
       "      <td>3903</td>\n",
       "      <td>403</td>\n",
       "      <td>0.103254</td>\n",
       "      <td>0.014969</td>\n",
       "    </tr>\n",
       "    <tr>\n",
       "      <td>сделка с недвижимостью</td>\n",
       "      <td>10026</td>\n",
       "      <td>781</td>\n",
       "      <td>0.077897</td>\n",
       "      <td>-0.010387</td>\n",
       "    </tr>\n",
       "  </tbody>\n",
       "</table>\n",
       "</div>"
      ],
      "text/plain": [
       "                        Добросовестный плательщик  Должник  Доля должников  \\\n",
       "purpose_category                                                             \n",
       "образование                                  3643      370        0.101565   \n",
       "свадьба                                      2137      186        0.087038   \n",
       "сделка с автомобилем                         3903      403        0.103254   \n",
       "сделка с недвижимостью                      10026      781        0.077897   \n",
       "\n",
       "                        Отклонение от общего уровня должников  \n",
       "purpose_category                                               \n",
       "образование                                          0.013280  \n",
       "свадьба                                             -0.001247  \n",
       "сделка с автомобилем                                 0.014969  \n",
       "сделка с недвижимостью                              -0.010387  "
      ]
     },
     "execution_count": 48,
     "metadata": {},
     "output_type": "execute_result"
    }
   ],
   "source": [
    "# для оценки влияния целей кредита на факт погашения кредита в срок\n",
    "# построим сводную таблицу на основании обработанной исходной таблицы\n",
    "# группировку проведем по столбцу purpose_category, столбец, по значениям которого проведем группировку - debt\n",
    "# значения, по которым будет сводная таблица  - значения столбца family_status_id, для которого применим функцию count():\n",
    "\n",
    "data_client_pivot_purpose_category = data_client.pivot_table(index=['purpose_category'], columns='debt', values='family_status_id', aggfunc='count')\n",
    "\n",
    "# для удобства восприятия переименуем в полученной таблице названия столбцов с 0 и 1 на Добросовестного плательщика и Должник\n",
    "# соответственно:\n",
    "\n",
    "new_names = ['Добросовестный плательщик', 'Должник']\n",
    "data_client_pivot_purpose_category.set_axis(new_names, axis = \"columns\", inplace = True)\n",
    "\n",
    "\n",
    "# создадим в полученной таблице столбец, в котором будет рассчитана доля должников с разным целями кредита и назовем его \n",
    "# Доля должников, и столбец, в котором будет рассчитано отклонение доли должников с разными целями кредита от общего уровня\n",
    "# должников и назовем его Отклонение от общего уровня должников\n",
    "\n",
    "data_client_pivot_purpose_category['Доля должников'] = data_client_pivot_purpose_category['Должник'] / data_client_pivot_purpose_category['Добросовестный плательщик']\n",
    "data_client_pivot_purpose_category['Отклонение от общего уровня должников'] = data_client_pivot_purpose_category['Доля должников'] - delay_per\n",
    "data_client_pivot_purpose_category"
   ]
  },
  {
   "cell_type": "markdown",
   "metadata": {},
   "source": [
    "### Вывод"
   ]
  },
  {
   "cell_type": "markdown",
   "metadata": {},
   "source": [
    "На основании сводной таблицы можно сделать вывод, что заемщики, взявшие кредит на сделки с недвижимостью, более добросовестно выплачивают его. В свою очередь, кредитование на сделки с автомобилем имеют более высокие риски по выплате в срок."
   ]
  },
  {
   "cell_type": "markdown",
   "metadata": {},
   "source": [
    "### Шаг 4. Общий вывод"
   ]
  },
  {
   "cell_type": "markdown",
   "metadata": {},
   "source": [
    "С исходной таблицей проведена предобработка данных - исключены и заполнены пропуски, удалены дубликаты, проведена необходимая категоризация. \n",
    "Проведены расчеты по оценке влияния появления детей, семейного положения, ежемесячного дохода и целей привлечения займа на факт погашения займа в срок.\n"
   ]
  },
  {
   "cell_type": "code",
   "execution_count": 49,
   "metadata": {},
   "outputs": [
    {
     "name": "stdout",
     "output_type": "stream",
     "text": [
      "В 8.83% случаев кредит не возвращался вовремя\n"
     ]
    }
   ],
   "source": [
    "print('В {:.2%}'.format(delay_per), 'случаев кредит не возвращался вовремя')"
   ]
  },
  {
   "cell_type": "code",
   "execution_count": 50,
   "metadata": {},
   "outputs": [
    {
     "data": {
      "text/html": [
       "<div>\n",
       "<style scoped>\n",
       "    .dataframe tbody tr th:only-of-type {\n",
       "        vertical-align: middle;\n",
       "    }\n",
       "\n",
       "    .dataframe tbody tr th {\n",
       "        vertical-align: top;\n",
       "    }\n",
       "\n",
       "    .dataframe thead th {\n",
       "        text-align: right;\n",
       "    }\n",
       "</style>\n",
       "<table border=\"1\" class=\"dataframe\">\n",
       "  <thead>\n",
       "    <tr style=\"text-align: right;\">\n",
       "      <th></th>\n",
       "      <th>Добросовестный плательщик</th>\n",
       "      <th>Должник</th>\n",
       "      <th>Доля должников</th>\n",
       "      <th>Отклонение от общего уровня должников</th>\n",
       "    </tr>\n",
       "    <tr>\n",
       "      <th>children</th>\n",
       "      <th></th>\n",
       "      <th></th>\n",
       "      <th></th>\n",
       "      <th></th>\n",
       "    </tr>\n",
       "  </thead>\n",
       "  <tbody>\n",
       "    <tr>\n",
       "      <td>0</td>\n",
       "      <td>13024.0</td>\n",
       "      <td>1063.0</td>\n",
       "      <td>0.081619</td>\n",
       "      <td>-0.006666</td>\n",
       "    </tr>\n",
       "    <tr>\n",
       "      <td>1</td>\n",
       "      <td>4410.0</td>\n",
       "      <td>444.0</td>\n",
       "      <td>0.100680</td>\n",
       "      <td>0.012396</td>\n",
       "    </tr>\n",
       "    <tr>\n",
       "      <td>2</td>\n",
       "      <td>1926.0</td>\n",
       "      <td>202.0</td>\n",
       "      <td>0.104881</td>\n",
       "      <td>0.016596</td>\n",
       "    </tr>\n",
       "    <tr>\n",
       "      <td>3</td>\n",
       "      <td>303.0</td>\n",
       "      <td>27.0</td>\n",
       "      <td>0.089109</td>\n",
       "      <td>0.000824</td>\n",
       "    </tr>\n",
       "    <tr>\n",
       "      <td>4</td>\n",
       "      <td>37.0</td>\n",
       "      <td>4.0</td>\n",
       "      <td>0.108108</td>\n",
       "      <td>0.019824</td>\n",
       "    </tr>\n",
       "    <tr>\n",
       "      <td>5</td>\n",
       "      <td>9.0</td>\n",
       "      <td>NaN</td>\n",
       "      <td>NaN</td>\n",
       "      <td>NaN</td>\n",
       "    </tr>\n",
       "  </tbody>\n",
       "</table>\n",
       "</div>"
      ],
      "text/plain": [
       "          Добросовестный плательщик  Должник  Доля должников  \\\n",
       "children                                                       \n",
       "0                           13024.0   1063.0        0.081619   \n",
       "1                            4410.0    444.0        0.100680   \n",
       "2                            1926.0    202.0        0.104881   \n",
       "3                             303.0     27.0        0.089109   \n",
       "4                              37.0      4.0        0.108108   \n",
       "5                               9.0      NaN             NaN   \n",
       "\n",
       "          Отклонение от общего уровня должников  \n",
       "children                                         \n",
       "0                                     -0.006666  \n",
       "1                                      0.012396  \n",
       "2                                      0.016596  \n",
       "3                                      0.000824  \n",
       "4                                      0.019824  \n",
       "5                                           NaN  "
      ]
     },
     "execution_count": 50,
     "metadata": {},
     "output_type": "execute_result"
    }
   ],
   "source": [
    "data_client_pivot_children"
   ]
  },
  {
   "cell_type": "markdown",
   "metadata": {},
   "source": [
    "Заемщики, не имеющие детей более надежны в отношении погашения платежа по кредиту в срок почти на 1% по сравнению с общим количеством должников. С появлением первого и второго ребенка надежность снижается. А в многодетных семьях надежность заемщиков уменьшается на 2% по отношению к среднему уровню надежности.\n"
   ]
  },
  {
   "cell_type": "code",
   "execution_count": 51,
   "metadata": {},
   "outputs": [
    {
     "data": {
      "text/html": [
       "<div>\n",
       "<style scoped>\n",
       "    .dataframe tbody tr th:only-of-type {\n",
       "        vertical-align: middle;\n",
       "    }\n",
       "\n",
       "    .dataframe tbody tr th {\n",
       "        vertical-align: top;\n",
       "    }\n",
       "\n",
       "    .dataframe thead th {\n",
       "        text-align: right;\n",
       "    }\n",
       "</style>\n",
       "<table border=\"1\" class=\"dataframe\">\n",
       "  <thead>\n",
       "    <tr style=\"text-align: right;\">\n",
       "      <th></th>\n",
       "      <th>Добросовестный плательщик</th>\n",
       "      <th>Должник</th>\n",
       "      <th>Доля должников</th>\n",
       "      <th>Отклонение от общего уровня должников</th>\n",
       "    </tr>\n",
       "    <tr>\n",
       "      <th>family_status</th>\n",
       "      <th></th>\n",
       "      <th></th>\n",
       "      <th></th>\n",
       "      <th></th>\n",
       "    </tr>\n",
       "  </thead>\n",
       "  <tbody>\n",
       "    <tr>\n",
       "      <td>Не женат / не замужем</td>\n",
       "      <td>2536</td>\n",
       "      <td>274</td>\n",
       "      <td>0.108044</td>\n",
       "      <td>0.019760</td>\n",
       "    </tr>\n",
       "    <tr>\n",
       "      <td>в разводе</td>\n",
       "      <td>1110</td>\n",
       "      <td>85</td>\n",
       "      <td>0.076577</td>\n",
       "      <td>-0.011708</td>\n",
       "    </tr>\n",
       "    <tr>\n",
       "      <td>вдовец / вдова</td>\n",
       "      <td>896</td>\n",
       "      <td>63</td>\n",
       "      <td>0.070312</td>\n",
       "      <td>-0.017972</td>\n",
       "    </tr>\n",
       "    <tr>\n",
       "      <td>гражданский брак</td>\n",
       "      <td>3760</td>\n",
       "      <td>388</td>\n",
       "      <td>0.103191</td>\n",
       "      <td>0.014907</td>\n",
       "    </tr>\n",
       "    <tr>\n",
       "      <td>женат / замужем</td>\n",
       "      <td>11407</td>\n",
       "      <td>930</td>\n",
       "      <td>0.081529</td>\n",
       "      <td>-0.006756</td>\n",
       "    </tr>\n",
       "  </tbody>\n",
       "</table>\n",
       "</div>"
      ],
      "text/plain": [
       "                       Добросовестный плательщик  Должник  Доля должников  \\\n",
       "family_status                                                               \n",
       "Не женат / не замужем                       2536      274        0.108044   \n",
       "в разводе                                   1110       85        0.076577   \n",
       "вдовец / вдова                               896       63        0.070312   \n",
       "гражданский брак                            3760      388        0.103191   \n",
       "женат / замужем                            11407      930        0.081529   \n",
       "\n",
       "                       Отклонение от общего уровня должников  \n",
       "family_status                                                 \n",
       "Не женат / не замужем                               0.019760  \n",
       "в разводе                                          -0.011708  \n",
       "вдовец / вдова                                     -0.017972  \n",
       "гражданский брак                                    0.014907  \n",
       "женат / замужем                                    -0.006756  "
      ]
     },
     "execution_count": 51,
     "metadata": {},
     "output_type": "execute_result"
    }
   ],
   "source": [
    "data_client_pivot_family_status"
   ]
  },
  {
   "cell_type": "markdown",
   "metadata": {},
   "source": [
    "Наиболее надежными плательщиками кредитов являются вдовцы и вдовы, среди них должников почти на 2% меньше, чем в среднем, а незамужние и неженатые должники на 2% превышают средний процент должников.\n"
   ]
  },
  {
   "cell_type": "code",
   "execution_count": 52,
   "metadata": {},
   "outputs": [
    {
     "data": {
      "text/html": [
       "<div>\n",
       "<style scoped>\n",
       "    .dataframe tbody tr th:only-of-type {\n",
       "        vertical-align: middle;\n",
       "    }\n",
       "\n",
       "    .dataframe tbody tr th {\n",
       "        vertical-align: top;\n",
       "    }\n",
       "\n",
       "    .dataframe thead th {\n",
       "        text-align: right;\n",
       "    }\n",
       "</style>\n",
       "<table border=\"1\" class=\"dataframe\">\n",
       "  <thead>\n",
       "    <tr style=\"text-align: right;\">\n",
       "      <th></th>\n",
       "      <th>Добросовестный плательщик</th>\n",
       "      <th>Должник</th>\n",
       "      <th>Доля должников</th>\n",
       "      <th>Отклонение от общего уровня должников</th>\n",
       "    </tr>\n",
       "    <tr>\n",
       "      <th>group_in</th>\n",
       "      <th></th>\n",
       "      <th></th>\n",
       "      <th></th>\n",
       "      <th></th>\n",
       "    </tr>\n",
       "  </thead>\n",
       "  <tbody>\n",
       "    <tr>\n",
       "      <td>Высокие доходы</td>\n",
       "      <td>1535</td>\n",
       "      <td>120</td>\n",
       "      <td>0.078176</td>\n",
       "      <td>-0.010109</td>\n",
       "    </tr>\n",
       "    <tr>\n",
       "      <td>Доходы выше среднего</td>\n",
       "      <td>4266</td>\n",
       "      <td>328</td>\n",
       "      <td>0.076887</td>\n",
       "      <td>-0.011398</td>\n",
       "    </tr>\n",
       "    <tr>\n",
       "      <td>Доходы ниже среднего</td>\n",
       "      <td>6294</td>\n",
       "      <td>550</td>\n",
       "      <td>0.087385</td>\n",
       "      <td>-0.000900</td>\n",
       "    </tr>\n",
       "    <tr>\n",
       "      <td>Средние доходы</td>\n",
       "      <td>7614</td>\n",
       "      <td>742</td>\n",
       "      <td>0.097452</td>\n",
       "      <td>0.009168</td>\n",
       "    </tr>\n",
       "  </tbody>\n",
       "</table>\n",
       "</div>"
      ],
      "text/plain": [
       "                      Добросовестный плательщик  Должник  Доля должников  \\\n",
       "group_in                                                                   \n",
       "Высокие доходы                             1535      120        0.078176   \n",
       "Доходы выше среднего                       4266      328        0.076887   \n",
       "Доходы ниже среднего                       6294      550        0.087385   \n",
       "Средние доходы                             7614      742        0.097452   \n",
       "\n",
       "                      Отклонение от общего уровня должников  \n",
       "group_in                                                     \n",
       "Высокие доходы                                    -0.010109  \n",
       "Доходы выше среднего                              -0.011398  \n",
       "Доходы ниже среднего                              -0.000900  \n",
       "Средние доходы                                     0.009168  "
      ]
     },
     "execution_count": 52,
     "metadata": {},
     "output_type": "execute_result"
    }
   ],
   "source": [
    "data_client_pivot_groupf_in"
   ]
  },
  {
   "cell_type": "markdown",
   "metadata": {},
   "source": [
    "Заемщики со средними доходами чаще остальных имеют задолженность по кредитам, а люди с доходами выше среднего выплачивают займы стабильнее"
   ]
  },
  {
   "cell_type": "code",
   "execution_count": 53,
   "metadata": {},
   "outputs": [
    {
     "data": {
      "text/html": [
       "<div>\n",
       "<style scoped>\n",
       "    .dataframe tbody tr th:only-of-type {\n",
       "        vertical-align: middle;\n",
       "    }\n",
       "\n",
       "    .dataframe tbody tr th {\n",
       "        vertical-align: top;\n",
       "    }\n",
       "\n",
       "    .dataframe thead th {\n",
       "        text-align: right;\n",
       "    }\n",
       "</style>\n",
       "<table border=\"1\" class=\"dataframe\">\n",
       "  <thead>\n",
       "    <tr style=\"text-align: right;\">\n",
       "      <th></th>\n",
       "      <th>Добросовестный плательщик</th>\n",
       "      <th>Должник</th>\n",
       "      <th>Доля должников</th>\n",
       "      <th>Отклонение от общего уровня должников</th>\n",
       "    </tr>\n",
       "    <tr>\n",
       "      <th>purpose_category</th>\n",
       "      <th></th>\n",
       "      <th></th>\n",
       "      <th></th>\n",
       "      <th></th>\n",
       "    </tr>\n",
       "  </thead>\n",
       "  <tbody>\n",
       "    <tr>\n",
       "      <td>образование</td>\n",
       "      <td>3643</td>\n",
       "      <td>370</td>\n",
       "      <td>0.101565</td>\n",
       "      <td>0.013280</td>\n",
       "    </tr>\n",
       "    <tr>\n",
       "      <td>свадьба</td>\n",
       "      <td>2137</td>\n",
       "      <td>186</td>\n",
       "      <td>0.087038</td>\n",
       "      <td>-0.001247</td>\n",
       "    </tr>\n",
       "    <tr>\n",
       "      <td>сделка с автомобилем</td>\n",
       "      <td>3903</td>\n",
       "      <td>403</td>\n",
       "      <td>0.103254</td>\n",
       "      <td>0.014969</td>\n",
       "    </tr>\n",
       "    <tr>\n",
       "      <td>сделка с недвижимостью</td>\n",
       "      <td>10026</td>\n",
       "      <td>781</td>\n",
       "      <td>0.077897</td>\n",
       "      <td>-0.010387</td>\n",
       "    </tr>\n",
       "  </tbody>\n",
       "</table>\n",
       "</div>"
      ],
      "text/plain": [
       "                        Добросовестный плательщик  Должник  Доля должников  \\\n",
       "purpose_category                                                             \n",
       "образование                                  3643      370        0.101565   \n",
       "свадьба                                      2137      186        0.087038   \n",
       "сделка с автомобилем                         3903      403        0.103254   \n",
       "сделка с недвижимостью                      10026      781        0.077897   \n",
       "\n",
       "                        Отклонение от общего уровня должников  \n",
       "purpose_category                                               \n",
       "образование                                          0.013280  \n",
       "свадьба                                             -0.001247  \n",
       "сделка с автомобилем                                 0.014969  \n",
       "сделка с недвижимостью                              -0.010387  "
      ]
     },
     "execution_count": 53,
     "metadata": {},
     "output_type": "execute_result"
    }
   ],
   "source": [
    "data_client_pivot_purpose_category"
   ]
  },
  {
   "cell_type": "markdown",
   "metadata": {},
   "source": [
    "При выдаче кредита на образование и сделки с автомобилями в 10 случаях из 100 платеж по кредиту будет просрочен, в то время как кредит, выданный на сделку с недвижимостью, более надежный и просрочка платежа возникает только в 8 случаях из 100."
   ]
  }
 ],
 "metadata": {
  "kernelspec": {
   "display_name": "Python 3",
   "language": "python",
   "name": "python3"
  },
  "language_info": {
   "codemirror_mode": {
    "name": "ipython",
    "version": 3
   },
   "file_extension": ".py",
   "mimetype": "text/x-python",
   "name": "python",
   "nbconvert_exporter": "python",
   "pygments_lexer": "ipython3",
   "version": "3.7.6"
  }
 },
 "nbformat": 4,
 "nbformat_minor": 2
}
